{
 "cells": [
  {
   "cell_type": "markdown",
   "metadata": {},
   "source": [
    "# 特征提取"
   ]
  },
  {
   "cell_type": "code",
   "execution_count": 1,
   "metadata": {
    "scrolled": true
   },
   "outputs": [],
   "source": [
    "import matplotlib.pyplot as plt\n",
    "import numpy as np\n",
    "import pandas as pd\n",
    "import seaborn as sns\n",
    "pd.set_option('display.float_format',lambda x : '%.2f' % x)\n",
    "plt.rcParams['axes.unicode_minus'] = False\n",
    "from warnings import filterwarnings\n",
    "filterwarnings('ignore')"
   ]
  },
  {
   "cell_type": "markdown",
   "metadata": {},
   "source": [
    "# 扫描样本"
   ]
  },
  {
   "cell_type": "code",
   "execution_count": 2,
   "metadata": {
    "scrolled": false
   },
   "outputs": [
    {
     "data": {
      "text/html": [
       "<div>\n",
       "<style scoped>\n",
       "    .dataframe tbody tr th:only-of-type {\n",
       "        vertical-align: middle;\n",
       "    }\n",
       "\n",
       "    .dataframe tbody tr th {\n",
       "        vertical-align: top;\n",
       "    }\n",
       "\n",
       "    .dataframe thead th {\n",
       "        text-align: right;\n",
       "    }\n",
       "</style>\n",
       "<table border=\"1\" class=\"dataframe\">\n",
       "  <thead>\n",
       "    <tr style=\"text-align: right;\">\n",
       "      <th></th>\n",
       "      <th>Gender</th>\n",
       "      <th>Height</th>\n",
       "      <th>Weight</th>\n",
       "      <th>Level</th>\n",
       "      <th>Ratio</th>\n",
       "    </tr>\n",
       "  </thead>\n",
       "  <tbody>\n",
       "    <tr>\n",
       "      <th>495</th>\n",
       "      <td>Male</td>\n",
       "      <td>148</td>\n",
       "      <td>155</td>\n",
       "      <td>5</td>\n",
       "      <td>1.05</td>\n",
       "    </tr>\n",
       "    <tr>\n",
       "      <th>496</th>\n",
       "      <td>Female</td>\n",
       "      <td>146</td>\n",
       "      <td>157</td>\n",
       "      <td>5</td>\n",
       "      <td>1.08</td>\n",
       "    </tr>\n",
       "    <tr>\n",
       "      <th>497</th>\n",
       "      <td>Male</td>\n",
       "      <td>140</td>\n",
       "      <td>152</td>\n",
       "      <td>5</td>\n",
       "      <td>1.09</td>\n",
       "    </tr>\n",
       "    <tr>\n",
       "      <th>498</th>\n",
       "      <td>Male</td>\n",
       "      <td>145</td>\n",
       "      <td>160</td>\n",
       "      <td>5</td>\n",
       "      <td>1.10</td>\n",
       "    </tr>\n",
       "    <tr>\n",
       "      <th>499</th>\n",
       "      <td>Female</td>\n",
       "      <td>142</td>\n",
       "      <td>159</td>\n",
       "      <td>5</td>\n",
       "      <td>1.12</td>\n",
       "    </tr>\n",
       "  </tbody>\n",
       "</table>\n",
       "</div>"
      ],
      "text/plain": [
       "     Gender  Height  Weight  Level  Ratio\n",
       "495    Male     148     155      5   1.05\n",
       "496  Female     146     157      5   1.08\n",
       "497    Male     140     152      5   1.09\n",
       "498    Male     145     160      5   1.10\n",
       "499  Female     142     159      5   1.12"
      ]
     },
     "execution_count": 2,
     "metadata": {},
     "output_type": "execute_result"
    }
   ],
   "source": [
    "df1 = pd.read_csv('./data/500_Person_Gender_Height_Weight_Index.csv')\n",
    "df1.rename(columns={'Index':\"Level\"},inplace=True)\n",
    "df1.sort_values('Height',ascending=True,inplace=True)\n",
    "df1.reset_index(inplace=True)\n",
    "plt.style.use({'figure.figsize':(8, 6)})\n",
    "df1['Ratio'] = df1['Weight']/df1['Height']\n",
    "df1.sort_values('Ratio',ascending=True,inplace=True)\n",
    "df1.reset_index(drop=True,inplace=True)\n",
    "del df1['index']\n",
    "df1.tail(5)"
   ]
  },
  {
   "cell_type": "markdown",
   "metadata": {},
   "source": [
    "# 正则化"
   ]
  },
  {
   "cell_type": "code",
   "execution_count": 3,
   "metadata": {},
   "outputs": [
    {
     "data": {
      "text/html": [
       "<div>\n",
       "<style scoped>\n",
       "    .dataframe tbody tr th:only-of-type {\n",
       "        vertical-align: middle;\n",
       "    }\n",
       "\n",
       "    .dataframe tbody tr th {\n",
       "        vertical-align: top;\n",
       "    }\n",
       "\n",
       "    .dataframe thead th {\n",
       "        text-align: right;\n",
       "    }\n",
       "</style>\n",
       "<table border=\"1\" class=\"dataframe\">\n",
       "  <thead>\n",
       "    <tr style=\"text-align: right;\">\n",
       "      <th></th>\n",
       "      <th>Gender</th>\n",
       "      <th>Height_scaled</th>\n",
       "      <th>Weight_scaled</th>\n",
       "      <th>Height</th>\n",
       "      <th>Weight</th>\n",
       "      <th>Ratio</th>\n",
       "      <th>Multi</th>\n",
       "      <th>Level</th>\n",
       "    </tr>\n",
       "  </thead>\n",
       "  <tbody>\n",
       "    <tr>\n",
       "      <th>495</th>\n",
       "      <td>Female</td>\n",
       "      <td>0.06</td>\n",
       "      <td>1.42</td>\n",
       "      <td>171</td>\n",
       "      <td>152</td>\n",
       "      <td>22.03</td>\n",
       "      <td>0.09</td>\n",
       "      <td>5</td>\n",
       "    </tr>\n",
       "    <tr>\n",
       "      <th>496</th>\n",
       "      <td>Female</td>\n",
       "      <td>0.06</td>\n",
       "      <td>1.51</td>\n",
       "      <td>171</td>\n",
       "      <td>155</td>\n",
       "      <td>23.46</td>\n",
       "      <td>0.10</td>\n",
       "      <td>5</td>\n",
       "    </tr>\n",
       "    <tr>\n",
       "      <th>497</th>\n",
       "      <td>Female</td>\n",
       "      <td>-0.06</td>\n",
       "      <td>-1.61</td>\n",
       "      <td>169</td>\n",
       "      <td>54</td>\n",
       "      <td>27.86</td>\n",
       "      <td>0.09</td>\n",
       "      <td>2</td>\n",
       "    </tr>\n",
       "    <tr>\n",
       "      <th>498</th>\n",
       "      <td>Male</td>\n",
       "      <td>0.00</td>\n",
       "      <td>0.28</td>\n",
       "      <td>170</td>\n",
       "      <td>115</td>\n",
       "      <td>81.27</td>\n",
       "      <td>0.00</td>\n",
       "      <td>4</td>\n",
       "    </tr>\n",
       "    <tr>\n",
       "      <th>499</th>\n",
       "      <td>Female</td>\n",
       "      <td>0.00</td>\n",
       "      <td>1.54</td>\n",
       "      <td>170</td>\n",
       "      <td>156</td>\n",
       "      <td>451.50</td>\n",
       "      <td>0.01</td>\n",
       "      <td>5</td>\n",
       "    </tr>\n",
       "  </tbody>\n",
       "</table>\n",
       "</div>"
      ],
      "text/plain": [
       "     Gender  Height_scaled  Weight_scaled  Height  Weight  Ratio  Multi  Level\n",
       "495  Female           0.06           1.42     171     152  22.03   0.09      5\n",
       "496  Female           0.06           1.51     171     155  23.46   0.10      5\n",
       "497  Female          -0.06          -1.61     169      54  27.86   0.09      2\n",
       "498    Male           0.00           0.28     170     115  81.27   0.00      4\n",
       "499  Female           0.00           1.54     170     156 451.50   0.01      5"
      ]
     },
     "execution_count": 3,
     "metadata": {},
     "output_type": "execute_result"
    }
   ],
   "source": [
    "Height_scaled = (df1['Height']-df1['Height'].mean())/(df1['Height'].std())  \n",
    "Weight_scaled = (df1['Weight']-df1['Weight'].mean())/(df1['Weight'].std())  \n",
    "df2 = pd.DataFrame()\n",
    "df2['Gender'] = df1['Gender']\n",
    "df2['Height_scaled'] = Height_scaled\n",
    "df2['Weight_scaled'] = Weight_scaled\n",
    "df2['Height'] = df1['Height']\n",
    "df2['Weight'] = df1['Weight']\n",
    "df2['Ratio'] = Weight_scaled/Height_scaled\n",
    "df2['Multi'] = Weight_scaled*Height_scaled\n",
    "df2['Level'] = df1['Level']\n",
    "\n",
    "df2.sort_values('Ratio',ascending=True,inplace=True)\n",
    "df2 = df2.reset_index(drop=True)\n",
    "df2.tail(5)"
   ]
  },
  {
   "cell_type": "markdown",
   "metadata": {},
   "source": [
    "# 显示判别曲线\n",
    "\n",
    "显示数据集散点图 (输入的x需要正则化后的)\n",
    "\n",
    "显示判别曲线\n",
    "\n",
    "全部显示"
   ]
  },
  {
   "cell_type": "code",
   "execution_count": 4,
   "metadata": {},
   "outputs": [],
   "source": [
    "#显示数据集散点图\n",
    "def plot_dataset(x, y):\n",
    "    min_x1 = np.min(x[:,0]) -1\n",
    "    min_x2 = np.min(x[:,1]) -1\n",
    "    max_x1 = np.max(x[:,0]) +1\n",
    "    max_x2 = np.max(x[:,1]) +1\n",
    "    axes = [min_x1, max_x1, min_x2, max_x2]\n",
    "    plt.plot(x[y==0][:,0], x[y==0][:,1], 'bs')\n",
    "    plt.plot(x[y==1][:,0], x[y==1][:,1], 'g^')\n",
    "    plt.grid()\n",
    "    plt.axis(axes)\n",
    "#显示判别曲线\n",
    "def plot_predictions(clf,x):\n",
    "    min_x1 = np.min(x[:,0]) -1\n",
    "    min_x2 = np.min(x[:,1]) -1\n",
    "    max_x1 = np.max(x[:,0]) +1\n",
    "    max_x2 = np.max(x[:,1]) +1\n",
    "    axes = [min_x1, max_x1, min_x2, max_x2]\n",
    "    r = 400\n",
    "    x0s = np.linspace(axes[0], axes[1] , r)\n",
    "    x1s = np.linspace(axes[2], axes[3], r)\n",
    "    x0, x1 = np.meshgrid(x0s, x1s)\n",
    "    test_x = np.c_[x0.ravel(), x1.ravel()]\n",
    "    y_pred = clf.predict(test_x)\n",
    "    y_pred = y_pred.reshape(x0.shape)\n",
    "    plt.contourf(x0, x1, y_pred, cmap=plt.cm.brg, alpha=0.2)\n",
    "#全部显示\n",
    "def plot_predict_curve(model,x,y):\n",
    "    plot_predictions(model,x)\n",
    "    plot_dataset(x,y)\n",
    "    plt.show()"
   ]
  },
  {
   "cell_type": "markdown",
   "metadata": {},
   "source": [
    "# 训练模型，正则化作用"
   ]
  },
  {
   "cell_type": "code",
   "execution_count": 5,
   "metadata": {},
   "outputs": [
    {
     "name": "stdout",
     "output_type": "stream",
     "text": [
      "0.992 0.992\n"
     ]
    },
    {
     "data": {
      "image/png": "[encoded data removed]",
      "text/plain": [
       "<Figure size 576x576 with 1 Axes>"
      ]
     },
     "metadata": {
      "needs_background": "light"
     },
     "output_type": "display_data"
    },
    {
     "data": {
      "image/png": "[encoded data removed]",
      "text/plain": [
       "<Figure size 576x432 with 1 Axes>"
      ]
     },
     "metadata": {
      "needs_background": "light"
     },
     "output_type": "display_data"
    }
   ],
   "source": [
    "from sklearn.svm import SVC\n",
    "from sklearn.linear_model import LogisticRegression,Ridge\n",
    "from sklearn.tree import DecisionTreeClassifier\n",
    "from sklearn.discriminant_analysis import QuadraticDiscriminantAnalysis, LinearDiscriminantAnalysis\n",
    "from sklearn.metrics import accuracy_score\n",
    "from sklearn.ensemble import RandomForestClassifier, AdaBoostClassifier, GradientBoostingClassifier,ExtraTreesClassifier, BaggingClassifier  \n",
    "from sklearn.neural_network import MLPClassifier\n",
    "\n",
    "df3 = df2\n",
    "df3['BLevel'] = df3['Level']\n",
    "df3.BLevel[df3.BLevel<=3] = 0\n",
    "df3.BLevel[df3.BLevel>3] = 1\n",
    "plt.figure(figsize=(8,8))\n",
    "\n",
    "x1=df3['Height_scaled'].tolist()\n",
    "x2=df3['Weight_scaled'].tolist()\n",
    "Y = []\n",
    "X = []\n",
    "for xx1,xx2,y1 in zip(x1,x2,df3['BLevel'].tolist()):\n",
    "    X.append([xx1,xx2])\n",
    "    Y.append(y1)\n",
    "X = np.array(X)\n",
    "Y = np.array(Y)\n",
    "\n",
    "model = SVC(C=5)\n",
    "model.fit(X,Y)\n",
    "pre_y = model.predict(X)\n",
    "accuracy = accuracy_score(Y, pre_y)\n",
    "print(accuracy,model.score(X,Y))\n",
    "\n",
    "plot_predict_curve(model,X,Y)\n",
    "\n",
    "model = SVC(C=50)\n",
    "model.fit(X,Y)\n",
    "plot_predict_curve(model,X,Y)"
   ]
  },
  {
   "cell_type": "code",
   "execution_count": null,
   "metadata": {},
   "outputs": [],
   "source": []
  },
  {
   "cell_type": "code",
   "execution_count": null,
   "metadata": {},
   "outputs": [],
   "source": []
  }
 ],
 "metadata": {
  "kernelspec": {
   "display_name": "Python 3",
   "language": "python",
   "name": "python3"
  },
  "language_info": {
   "codemirror_mode": {
    "name": "ipython",
    "version": 3
   },
   "file_extension": ".py",
   "mimetype": "text/x-python",
   "name": "python",
   "nbconvert_exporter": "python",
   "pygments_lexer": "ipython3",
   "version": "3.6.2"
  }
 },
 "nbformat": 4,
 "nbformat_minor": 4
}
