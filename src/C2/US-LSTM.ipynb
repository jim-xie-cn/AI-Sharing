{
 "cells": [
  {
   "cell_type": "markdown",
   "metadata": {},
   "source": [
    "# Demonstration for Time series forecasting\n",
    "\n",
    "Forecasting for the count infected by COVID-19 (USA)\n",
    "\n",
    "Author: Jim Xie\n",
    "\n",
    "Date: 2020-7-20"
   ]
  },
  {
   "cell_type": "code",
   "execution_count": 1,
   "metadata": {
    "scrolled": true
   },
   "outputs": [],
   "source": [
    "import matplotlib.pyplot as plt\n",
    "%matplotlib inline\n",
    "import numpy as np\n",
    "import pandas as pd\n",
    "import seaborn as sns\n",
    "from statsmodels.graphics.tsaplots import plot_acf, plot_pacf\n",
    "from statsmodels.tsa.stattools import adfuller\n",
    "from statsmodels.stats.diagnostic import acorr_ljungbox\n",
    "from statsmodels.tsa.arima_model import ARMA\n",
    "from statsmodels.tsa.arima_model import ARIMA\n",
    "from sklearn.preprocessing import MinMaxScaler\n",
    "from sklearn.preprocessing import StandardScaler\n",
    "from keras.layers import Bidirectional\n",
    "from sklearn.metrics import mean_squared_error, r2_score\n",
    "import json\n",
    "plt.style.use({'figure.figsize':(12, 5)})\n",
    "sns.set_style('dark')\n",
    "sns.set_context(\"poster\")\n",
    "pd.set_option('display.float_format',lambda x : '%.8f' % x)\n",
    "plt.rcParams['axes.unicode_minus'] = False\n",
    "from warnings import filterwarnings\n",
    "filterwarnings('ignore')\n",
    "from sklearn.model_selection import train_test_split"
   ]
  },
  {
   "cell_type": "markdown",
   "metadata": {},
   "source": [
    "# Prepare train data"
   ]
  },
  {
   "cell_type": "code",
   "execution_count": 2,
   "metadata": {
    "scrolled": true
   },
   "outputs": [
    {
     "data": {
      "text/html": [
       "<div>\n",
       "<style scoped>\n",
       "    .dataframe tbody tr th:only-of-type {\n",
       "        vertical-align: middle;\n",
       "    }\n",
       "\n",
       "    .dataframe tbody tr th {\n",
       "        vertical-align: top;\n",
       "    }\n",
       "\n",
       "    .dataframe thead th {\n",
       "        text-align: right;\n",
       "    }\n",
       "</style>\n",
       "<table border=\"1\" class=\"dataframe\">\n",
       "  <thead>\n",
       "    <tr style=\"text-align: right;\">\n",
       "      <th></th>\n",
       "      <th>date</th>\n",
       "      <th>state</th>\n",
       "      <th>positive</th>\n",
       "      <th>positiveIncrease</th>\n",
       "      <th>test</th>\n",
       "      <th>testIncrease</th>\n",
       "    </tr>\n",
       "  </thead>\n",
       "  <tbody>\n",
       "    <tr>\n",
       "      <th>8455</th>\n",
       "      <td>20200401</td>\n",
       "      <td>WY</td>\n",
       "      <td>130.00000000</td>\n",
       "      <td>21</td>\n",
       "      <td>2348</td>\n",
       "      <td>240</td>\n",
       "    </tr>\n",
       "    <tr>\n",
       "      <th>8424</th>\n",
       "      <td>20200401</td>\n",
       "      <td>MI</td>\n",
       "      <td>20246.00000000</td>\n",
       "      <td>1592</td>\n",
       "      <td>50197</td>\n",
       "      <td>5209</td>\n",
       "    </tr>\n",
       "    <tr>\n",
       "      <th>8423</th>\n",
       "      <td>20200401</td>\n",
       "      <td>ME</td>\n",
       "      <td>344.00000000</td>\n",
       "      <td>41</td>\n",
       "      <td>6432</td>\n",
       "      <td>41</td>\n",
       "    </tr>\n",
       "    <tr>\n",
       "      <th>8422</th>\n",
       "      <td>20200401</td>\n",
       "      <td>MD</td>\n",
       "      <td>1985.00000000</td>\n",
       "      <td>325</td>\n",
       "      <td>19218</td>\n",
       "      <td>2690</td>\n",
       "    </tr>\n",
       "    <tr>\n",
       "      <th>8421</th>\n",
       "      <td>20200401</td>\n",
       "      <td>MA</td>\n",
       "      <td>7639.00000000</td>\n",
       "      <td>1118</td>\n",
       "      <td>51764</td>\n",
       "      <td>4803</td>\n",
       "    </tr>\n",
       "  </tbody>\n",
       "</table>\n",
       "</div>"
      ],
      "text/plain": [
       "          date state       positive  positiveIncrease   test  testIncrease\n",
       "8455  20200401    WY   130.00000000                21   2348           240\n",
       "8424  20200401    MI 20246.00000000              1592  50197          5209\n",
       "8423  20200401    ME   344.00000000                41   6432            41\n",
       "8422  20200401    MD  1985.00000000               325  19218          2690\n",
       "8421  20200401    MA  7639.00000000              1118  51764          4803"
      ]
     },
     "execution_count": 2,
     "metadata": {},
     "output_type": "execute_result"
    }
   ],
   "source": [
    "df = pd.read_csv('./US/us_states_covid19_daily.csv')\n",
    "df = pd.read_csv('./US-812/us_states_covid19_daily.csv')\n",
    "df = pd.read_csv('./US-830/us_states_covid19_daily.csv')\n",
    "df = df[['date','state','positive','positiveIncrease','total','totalTestResultsIncrease']]\n",
    "\n",
    "df['date'] = df['date'].astype(str)\n",
    "df = df[df['date']>='20200401']\n",
    "df.fillna(value=0,inplace=True)\n",
    "df.rename(columns={'total':'test', 'totalTestResultsIncrease':'testIncrease'}, inplace = True)\n",
    "df.sort_values('date',ascending=True,inplace=True)\n",
    "df.head(5)"
   ]
  },
  {
   "cell_type": "code",
   "execution_count": 3,
   "metadata": {},
   "outputs": [
    {
     "data": {
      "text/html": [
       "<div>\n",
       "<style scoped>\n",
       "    .dataframe tbody tr th:only-of-type {\n",
       "        vertical-align: middle;\n",
       "    }\n",
       "\n",
       "    .dataframe tbody tr th {\n",
       "        vertical-align: top;\n",
       "    }\n",
       "\n",
       "    .dataframe thead th {\n",
       "        text-align: right;\n",
       "    }\n",
       "</style>\n",
       "<table border=\"1\" class=\"dataframe\">\n",
       "  <thead>\n",
       "    <tr style=\"text-align: right;\">\n",
       "      <th></th>\n",
       "      <th>date</th>\n",
       "      <th>positive</th>\n",
       "      <th>positiveIncrease</th>\n",
       "      <th>test</th>\n",
       "      <th>testIncrease</th>\n",
       "    </tr>\n",
       "  </thead>\n",
       "  <tbody>\n",
       "    <tr>\n",
       "      <th>0</th>\n",
       "      <td>20200401</td>\n",
       "      <td>224089.00000000</td>\n",
       "      <td>25785</td>\n",
       "      <td>1268243</td>\n",
       "      <td>108383</td>\n",
       "    </tr>\n",
       "    <tr>\n",
       "      <th>1</th>\n",
       "      <td>20200402</td>\n",
       "      <td>252146.00000000</td>\n",
       "      <td>28057</td>\n",
       "      <td>1389790</td>\n",
       "      <td>119310</td>\n",
       "    </tr>\n",
       "    <tr>\n",
       "      <th>2</th>\n",
       "      <td>20200403</td>\n",
       "      <td>284222.00000000</td>\n",
       "      <td>32076</td>\n",
       "      <td>1522758</td>\n",
       "      <td>132623</td>\n",
       "    </tr>\n",
       "    <tr>\n",
       "      <th>3</th>\n",
       "      <td>20200404</td>\n",
       "      <td>317434.00000000</td>\n",
       "      <td>33212</td>\n",
       "      <td>1705629</td>\n",
       "      <td>229559</td>\n",
       "    </tr>\n",
       "    <tr>\n",
       "      <th>4</th>\n",
       "      <td>20200405</td>\n",
       "      <td>342934.00000000</td>\n",
       "      <td>25500</td>\n",
       "      <td>1827162</td>\n",
       "      <td>119489</td>\n",
       "    </tr>\n",
       "    <tr>\n",
       "      <th>...</th>\n",
       "      <td>...</td>\n",
       "      <td>...</td>\n",
       "      <td>...</td>\n",
       "      <td>...</td>\n",
       "      <td>...</td>\n",
       "    </tr>\n",
       "    <tr>\n",
       "      <th>146</th>\n",
       "      <td>20200825</td>\n",
       "      <td>5750167.00000000</td>\n",
       "      <td>36374</td>\n",
       "      <td>73379496</td>\n",
       "      <td>645605</td>\n",
       "    </tr>\n",
       "    <tr>\n",
       "      <th>147</th>\n",
       "      <td>20200826</td>\n",
       "      <td>5793523.00000000</td>\n",
       "      <td>43356</td>\n",
       "      <td>74054514</td>\n",
       "      <td>654963</td>\n",
       "    </tr>\n",
       "    <tr>\n",
       "      <th>148</th>\n",
       "      <td>20200827</td>\n",
       "      <td>5837507.00000000</td>\n",
       "      <td>43984</td>\n",
       "      <td>74803661</td>\n",
       "      <td>751897</td>\n",
       "    </tr>\n",
       "    <tr>\n",
       "      <th>149</th>\n",
       "      <td>20200828</td>\n",
       "      <td>5884053.00000000</td>\n",
       "      <td>46546</td>\n",
       "      <td>75575177</td>\n",
       "      <td>783235</td>\n",
       "    </tr>\n",
       "    <tr>\n",
       "      <th>150</th>\n",
       "      <td>20200829</td>\n",
       "      <td>5928381.00000000</td>\n",
       "      <td>44328</td>\n",
       "      <td>76336718</td>\n",
       "      <td>765377</td>\n",
       "    </tr>\n",
       "  </tbody>\n",
       "</table>\n",
       "<p>151 rows × 5 columns</p>\n",
       "</div>"
      ],
      "text/plain": [
       "         date         positive  positiveIncrease      test  testIncrease\n",
       "0    20200401  224089.00000000             25785   1268243        108383\n",
       "1    20200402  252146.00000000             28057   1389790        119310\n",
       "2    20200403  284222.00000000             32076   1522758        132623\n",
       "3    20200404  317434.00000000             33212   1705629        229559\n",
       "4    20200405  342934.00000000             25500   1827162        119489\n",
       "..        ...              ...               ...       ...           ...\n",
       "146  20200825 5750167.00000000             36374  73379496        645605\n",
       "147  20200826 5793523.00000000             43356  74054514        654963\n",
       "148  20200827 5837507.00000000             43984  74803661        751897\n",
       "149  20200828 5884053.00000000             46546  75575177        783235\n",
       "150  20200829 5928381.00000000             44328  76336718        765377\n",
       "\n",
       "[151 rows x 5 columns]"
      ]
     },
     "execution_count": 3,
     "metadata": {},
     "output_type": "execute_result"
    }
   ],
   "source": [
    "df1 = df.groupby(['date'])['positive','positiveIncrease','test','testIncrease'].agg('sum')\n",
    "df1.sort_values('date',ascending=True,inplace=True)\n",
    "df1 = df1.reset_index()\n",
    "df1"
   ]
  },
  {
   "cell_type": "code",
   "execution_count": 4,
   "metadata": {},
   "outputs": [],
   "source": [
    "df_train,df_test,df_train,df_test = train_test_split(df1,df1,test_size=0.10,shuffle=False)\n",
    "train_count = len(df_train)\n",
    "test_count = len(df_test)\n",
    "\n",
    "key = 'positiveIncrease'\n",
    "raw_train_x = df1[key][0:train_count-1]\n",
    "raw_train_y = df1[key][1:train_count]\n",
    "\n",
    "raw_test_x = df1[key][train_count-2:-1]\n",
    "raw_test_y = df1[key][train_count-1:]\n",
    "test_date = df1['date'][train_count-1:]\n",
    "\n",
    "sc = StandardScaler()\n",
    "sc.fit(df[key][:,np.newaxis])\n",
    "\n",
    "scaled_train_x = sc.transform(raw_train_x[:, np.newaxis])\n",
    "scaled_train_y = sc.transform(raw_train_y[:, np.newaxis])\n",
    "scaled_test_x = sc.transform(raw_test_x[:, np.newaxis])\n",
    "scaled_test_y = sc.transform(raw_test_y[:, np.newaxis])\n",
    "\n",
    "X_train = scaled_train_x\n",
    "Y_train = scaled_train_y\n",
    "\n",
    "X_test = scaled_test_x\n",
    "Y_test = scaled_test_y"
   ]
  },
  {
   "cell_type": "code",
   "execution_count": 5,
   "metadata": {},
   "outputs": [
    {
     "data": {
      "text/plain": [
       "0      25785\n",
       "1      28057\n",
       "2      32076\n",
       "3      33212\n",
       "4      25500\n",
       "       ...  \n",
       "129    53713\n",
       "130    50624\n",
       "131    42089\n",
       "132    55702\n",
       "133    56132\n",
       "Name: positiveIncrease, Length: 134, dtype: int64"
      ]
     },
     "execution_count": 5,
     "metadata": {},
     "output_type": "execute_result"
    }
   ],
   "source": [
    "raw_train_x"
   ]
  },
  {
   "cell_type": "code",
   "execution_count": 6,
   "metadata": {},
   "outputs": [
    {
     "data": {
      "text/plain": [
       "133    56132\n",
       "134    51760\n",
       "135    55635\n",
       "136    56148\n",
       "137    42487\n",
       "138    37881\n",
       "139    40796\n",
       "140    44953\n",
       "141    43758\n",
       "142    46562\n",
       "143    46242\n",
       "144    37567\n",
       "145    34641\n",
       "146    36374\n",
       "147    43356\n",
       "148    43984\n",
       "149    46546\n",
       "Name: positiveIncrease, dtype: int64"
      ]
     },
     "execution_count": 6,
     "metadata": {},
     "output_type": "execute_result"
    }
   ],
   "source": [
    "raw_test_x"
   ]
  },
  {
   "cell_type": "markdown",
   "metadata": {},
   "source": [
    "X_train = np.array(raw_train_x)\n",
    "Y_train = np.array(raw_train_y)\n",
    "\n",
    "X_test = np.array(raw_test_x)\n",
    "Y_test = np.array(raw_test_y)"
   ]
  },
  {
   "cell_type": "code",
   "execution_count": 7,
   "metadata": {
    "scrolled": false
   },
   "outputs": [
    {
     "data": {
      "text/plain": [
       "<AxesSubplot:>"
      ]
     },
     "execution_count": 7,
     "metadata": {},
     "output_type": "execute_result"
    },
    {
     "data": {
      "image/png": "[encoded data removed]",
      "text/plain": [
       "<Figure size 864x360 with 1 Axes>"
      ]
     },
     "metadata": {},
     "output_type": "display_data"
    }
   ],
   "source": [
    "plt.ticklabel_format(style='plain',axis='both')    \n",
    "raw_train_y.plot()\n",
    "raw_test_x.plot()"
   ]
  },
  {
   "cell_type": "markdown",
   "metadata": {},
   "source": [
    "# 使用原始神经网络"
   ]
  },
  {
   "cell_type": "code",
   "execution_count": 8,
   "metadata": {
    "scrolled": false
   },
   "outputs": [
    {
     "data": {
      "text/plain": [
       "<tensorflow.python.keras.callbacks.History at 0x7fd12e627668>"
      ]
     },
     "execution_count": 8,
     "metadata": {},
     "output_type": "execute_result"
    }
   ],
   "source": [
    "from keras.models import Sequential\n",
    "from keras.layers import Dense,LSTM\n",
    "from keras.optimizers import Adam\n",
    "import keras.backend as K\n",
    "\n",
    "K.clear_session()\n",
    "model = Sequential()\n",
    "model.add(Dense(50, input_dim=1, activation='relu'))\n",
    "model.add(Dense(1, activation='relu'))\n",
    "model.compile(loss='mean_squared_error',optimizer=Adam(lr=0.0001))\n",
    "model.fit(X_train, Y_train, validation_data=(X_test, Y_test), epochs=100,verbose=0)"
   ]
  },
  {
   "cell_type": "code",
   "execution_count": 9,
   "metadata": {
    "scrolled": false
   },
   "outputs": [],
   "source": [
    "X_test_NN = X_test\n",
    "pred_nn_scaled = model.predict(X_test_NN)\n",
    "pred_nn = sc.inverse_transform(pred_nn_scaled)"
   ]
  },
  {
   "cell_type": "code",
   "execution_count": 10,
   "metadata": {
    "scrolled": false
   },
   "outputs": [
    {
     "data": {
      "text/plain": [
       "<AxesSubplot:>"
      ]
     },
     "execution_count": 10,
     "metadata": {},
     "output_type": "execute_result"
    },
    {
     "data": {
      "image/png": "[encoded data removed]",
      "text/plain": [
       "<Figure size 864x360 with 1 Axes>"
      ]
     },
     "metadata": {},
     "output_type": "display_data"
    }
   ],
   "source": [
    "df_nn = pd.DataFrame()\n",
    "df_nn['Real'] = Y_test.squeeze()\n",
    "df_nn['Pred'] = pred_nn_scaled\n",
    "df_nn.plot()"
   ]
  },
  {
   "cell_type": "code",
   "execution_count": 11,
   "metadata": {},
   "outputs": [
    {
     "name": "stdout",
     "output_type": "stream",
     "text": [
      "MSE: 191.102789\n",
      "RMSE: 13.823993\n",
      "R-Squared: -9.472964\n",
      "20200813 Real: 51760 Predict: 31752.947 Error: 20007.052734375\n",
      "20200814 Real: 55635 Predict: 29333.92 Error: 26301.080078125\n",
      "20200815 Real: 56148 Predict: 31477.957 Error: 24670.04296875\n",
      "20200816 Real: 42487 Predict: 31761.795 Error: 10725.205078125\n",
      "20200817 Real: 37881 Predict: 24203.18 Error: 13677.8203125\n",
      "20200818 Real: 40796 Predict: 21654.684 Error: 19141.31640625\n",
      "20200819 Real: 44953 Predict: 23267.549 Error: 21685.451171875\n",
      "20200820 Real: 43758 Predict: 25567.617 Error: 18190.3828125\n",
      "20200821 Real: 46562 Predict: 24906.42 Error: 21655.580078125\n",
      "20200822 Real: 46242 Predict: 26457.871 Error: 19784.12890625\n",
      "20200823 Real: 37567 Predict: 26280.818 Error: 11286.181640625\n",
      "20200824 Real: 34641 Predict: 21480.947 Error: 13160.052734375\n",
      "20200825 Real: 36374 Predict: 19861.994 Error: 16512.005859375\n",
      "20200826 Real: 43356 Predict: 20820.861 Error: 22535.138671875\n",
      "20200827 Real: 43984 Predict: 24683.996 Error: 19300.00390625\n",
      "20200828 Real: 46546 Predict: 25031.469 Error: 21514.53125\n",
      "20200829 Real: 44328 Predict: 26449.02 Error: 17878.98046875\n"
     ]
    }
   ],
   "source": [
    "print('MSE: %f'%mean_squared_error(Y_test,pred_nn_scaled))\n",
    "print('RMSE: %f'%np.sqrt(mean_squared_error(Y_test,pred_nn_scaled)))\n",
    "print('R-Squared: %f'%r2_score(Y_test,pred_nn_scaled))\n",
    "\n",
    "for date,real,pred in zip(test_date,raw_test_y,pred_nn):\n",
    "    print(date,\"Real:\",real,\"Predict:\",pred[0],\"Error:\",real-pred[0])"
   ]
  },
  {
   "cell_type": "code",
   "execution_count": 12,
   "metadata": {
    "scrolled": true
   },
   "outputs": [],
   "source": [
    "X_train_t = X_train[:,None]\n",
    "X_test_t = X_test[:,None]\n",
    "X_train_t = X_train_t.reshape(-1,1,1)\n",
    "X_test_t = X_test_t.reshape(-1,1,1)"
   ]
  },
  {
   "cell_type": "markdown",
   "metadata": {},
   "source": [
    "# 使用LSTM"
   ]
  },
  {
   "cell_type": "code",
   "execution_count": null,
   "metadata": {
    "scrolled": false
   },
   "outputs": [],
   "source": [
    "K.clear_session()\n",
    "model = Sequential()\n",
    "#model.add(Bidirectional(LSTM(10, return_sequences=True), input_shape=(1, 1)))\n",
    "#model.add(Bidirectional(LSTM(20)))\n",
    "model.add(LSTM(7, input_shape=(1,1),activation='relu'))\n",
    "model.add(Dense(1))\n",
    "model.compile(loss='mean_squared_error', optimizer=Adam(lr=0.0001))\n",
    "model.fit(X_train_t, Y_train, validation_data=(X_test_t, Y_test), epochs=300000, verbose=0)\n",
    "plt.plot(model.history.history['val_loss'])"
   ]
  },
  {
   "cell_type": "code",
   "execution_count": null,
   "metadata": {
    "scrolled": false
   },
   "outputs": [],
   "source": [
    "#X_test_LSTM = np.insert(X_test,0,Y_train[-1][0]).reshape(-1,1)\n",
    "#X_test_LSTM = X_test_LSTM[:,None]\n",
    "X_test_LSTM = X_test.reshape(-1,1,1)\n",
    "pred_lstm_scaled = model.predict(X_test_LSTM)\n",
    "pred_lstm = sc.inverse_transform(pred_lstm_scaled)"
   ]
  },
  {
   "cell_type": "code",
   "execution_count": null,
   "metadata": {
    "scrolled": false
   },
   "outputs": [],
   "source": [
    "plt.figure(figsize=(20,6))\n",
    "df_t = pd.DataFrame()\n",
    "df_t['Real'] = Y_test.squeeze()\n",
    "df_t['Pred'] = pred_lstm_scaled\n",
    "df_t.plot()"
   ]
  },
  {
   "cell_type": "code",
   "execution_count": null,
   "metadata": {
    "scrolled": false
   },
   "outputs": [],
   "source": [
    "print('MSE: %f'%mean_squared_error(df_t['Real'],pred_lstm_scaled))\n",
    "print('RMSE: %f'%np.sqrt(mean_squared_error(df_t['Real'],pred_lstm_scaled)))\n",
    "print('R-Squared: %f'%r2_score(df_t['Real'],pred_lstm_scaled))\n",
    "\n",
    "for date,real,pred in zip(test_date,raw_test_y,pred_lstm):\n",
    "    print(date,\"Real:\",real,\"Predict:\",pred[0],\"Error:\",real-pred[0])"
   ]
  }
 ],
 "metadata": {
  "kernelspec": {
   "display_name": "Python 3",
   "language": "python",
   "name": "python3"
  },
  "language_info": {
   "codemirror_mode": {
    "name": "ipython",
    "version": 3
   },
   "file_extension": ".py",
   "mimetype": "text/x-python",
   "name": "python",
   "nbconvert_exporter": "python",
   "pygments_lexer": "ipython3",
   "version": "3.6.2"
  }
 },
 "nbformat": 4,
 "nbformat_minor": 2
}
