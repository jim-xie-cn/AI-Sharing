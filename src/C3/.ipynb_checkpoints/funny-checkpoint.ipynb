{
 "cells": [
  {
   "cell_type": "code",
   "execution_count": 1,
   "metadata": {},
   "outputs": [],
   "source": [
    "# -*- coding: utf-8 -*- \n",
    "import sys,os,logging,time,json,cv2,json,threading,uuid,logging,cv2,datetime\n",
    "from FOCCommon import CFOCCommon\n",
    "from FOCClient import CFOCClient\n",
    "from ImgBase import CImgBase\n",
    "from IPython.display import Image\n",
    "from IPython.core.display import HTML\n",
    "import numpy as np\n",
    "%matplotlib inline\n",
    "g_root_path = \"/Users/JimXie/Desktop/What/Face/Demo/\""
   ]
  },
  {
   "cell_type": "code",
   "execution_count": 2,
   "metadata": {},
   "outputs": [
    {
     "data": {
      "text/html": [
       "<img src=\"./images/out/all-with-rect.jpg\"/>"
      ],
      "text/plain": [
       "<IPython.core.display.Image object>"
      ]
     },
     "execution_count": 2,
     "metadata": {},
     "output_type": "execute_result"
    }
   ],
   "source": [
    "file_name = \"%s/images/raw/all.jpg\"%g_root_path\n",
    "raw_img = CFOCCommon.ReadImg(file_name)\n",
    "res = CFOCClient().GetTiny(file_name)\n",
    "rect_img = raw_img.copy()\n",
    "for i in range(len(res)):\n",
    "    item = res[i]\n",
    "    rect = item[0]\n",
    "    CImgBase.DrawRect(rect_img,rect,(255,255,0),str(i))\n",
    "CImgBase.SaveImg(rect_img,\"./images/out/all-with-rect.jpg\")\n",
    "Image(url= \"./images/out/all-with-rect.jpg\")"
   ]
  },
  {
   "cell_type": "code",
   "execution_count": 3,
   "metadata": {},
   "outputs": [],
   "source": [
    "def beauty_face(img):\n",
    "    dst = np.zeros_like(img)\n",
    "    v1 = 5\n",
    "    v2 = 1\n",
    "    dx = v1 * 5 \n",
    "    fc = v1 * 12.5\n",
    "    p = 0.1\n",
    "    temp4 = np.zeros_like(img)\n",
    "    temp1 = cv2.bilateralFilter(img,dx,fc,fc)\n",
    "    temp2 = cv2.subtract(temp1,img);\n",
    "    temp2 = cv2.add(temp2,(10,10,10,250))\n",
    "    temp3 = cv2.GaussianBlur(temp2,(2*v2 - 1,2*v2-1),0)\n",
    "    temp4 = cv2.add(img,temp3)\n",
    "    dst = cv2.addWeighted(img,p,temp4,1-p,0.0)\n",
    "    dst = cv2.add(dst,(10, 10, 10,128))\n",
    "    return dst"
   ]
  },
  {
   "cell_type": "code",
   "execution_count": 4,
   "metadata": {},
   "outputs": [
    {
     "data": {
      "text/html": [
       "<img src=\"./images/out/face1.jpg\" width=\"256\" height=\"256\"/>"
      ],
      "text/plain": [
       "<IPython.core.display.Image object>"
      ]
     },
     "execution_count": 4,
     "metadata": {},
     "output_type": "execute_result"
    }
   ],
   "source": [
    "rect1 = res[0][0]\n",
    "rect1 = ((rect1[0][0]-5,rect1[0][1]),(rect1[1][0]+5,rect1[1][1]))\n",
    "face1 = CImgBase.GetSubImage(raw_img,rect1)\n",
    "face1 = face1\n",
    "CImgBase.SaveImg(face1,\"./images/out/face1.jpg\")\n",
    "Image(url= \"./images/out/face1.jpg\", width=256, height=256)"
   ]
  },
  {
   "cell_type": "code",
   "execution_count": 5,
   "metadata": {},
   "outputs": [
    {
     "data": {
      "text/html": [
       "<img src=\"./images/out/face1.jpg\" width=\"256\" height=\"256\"/>"
      ],
      "text/plain": [
       "<IPython.core.display.Image object>"
      ]
     },
     "execution_count": 5,
     "metadata": {},
     "output_type": "execute_result"
    }
   ],
   "source": [
    "face1 = beauty_face(face1)\n",
    "CImgBase.SaveImg(face1,\"./images/out/face1.jpg\")\n",
    "Image(url= \"./images/out/face1.jpg\", width=256, height=256)"
   ]
  },
  {
   "cell_type": "code",
   "execution_count": 6,
   "metadata": {},
   "outputs": [
    {
     "data": {
      "text/html": [
       "<img src=\"./images/out/face2.jpg\" width=\"256\" height=\"256\"/>"
      ],
      "text/plain": [
       "<IPython.core.display.Image object>"
      ]
     },
     "execution_count": 6,
     "metadata": {},
     "output_type": "execute_result"
    }
   ],
   "source": [
    "rect2= res[23][0]\n",
    "face2 = CImgBase.GetSubImage(raw_img,rect2)\n",
    "#face2 = CFOCCommon.ReadImg(\"./images/out/face-temp.png\")\n",
    "CImgBase.SaveImg(face2,\"./images/out/face2.jpg\")\n",
    "Image(url= \"./images/out/face2.jpg\", width=256, height=256)"
   ]
  },
  {
   "cell_type": "code",
   "execution_count": 7,
   "metadata": {},
   "outputs": [
    {
     "data": {
      "text/html": [
       "<img src=\"./images/out/face2.jpg\" width=\"256\" height=\"256\"/>"
      ],
      "text/plain": [
       "<IPython.core.display.Image object>"
      ]
     },
     "execution_count": 7,
     "metadata": {},
     "output_type": "execute_result"
    }
   ],
   "source": [
    "face2 = beauty_face(face2)\n",
    "CImgBase.SaveImg(face2,\"./images/out/face2.jpg\")\n",
    "Image(url= \"./images/out/face2.jpg\", width=256, height=256)"
   ]
  },
  {
   "cell_type": "code",
   "execution_count": 8,
   "metadata": {},
   "outputs": [
    {
     "data": {
      "text/html": [
       "<img src=\"./images/out/changed.jpg\" width=\"768\" height=\"1024\"/>"
      ],
      "text/plain": [
       "<IPython.core.display.Image object>"
      ]
     },
     "execution_count": 8,
     "metadata": {},
     "output_type": "execute_result"
    }
   ],
   "source": [
    "size1 = (rect1[1][0] - rect1[0][0],rect1[1][1] - rect1[0][1])\n",
    "size2 = (rect2[1][0] - rect2[0][0],rect2[1][1] - rect2[0][1])\n",
    "face1 = cv2.resize(face1, size2, interpolation=cv2.INTER_AREA)  \n",
    "face3 = CFOCCommon.ReadImg(\"./images/out/face-temp.jpg\")\n",
    "#face3 = face2\n",
    "face3 = cv2.resize(face3, size1, interpolation=cv2.INTER_AREA)  \n",
    "#CImgBase.SaveImg(face3,\"./images/out/face3.jpg\")\n",
    "#CImgBase.SaveImg(face2,\"./images/out/face2.jpg\")\n",
    "img = CImgBase.SetSubImage(beauty_face(raw_img.copy()),rect1,face3)\n",
    "#img = CImgBase.SetSubImage(beauty_face(img.copy()),rect2,face1)\n",
    "CImgBase.SaveImg(img,\"./images/out/changed.jpg\")\n",
    "Image(url= \"./images/out/changed.jpg\", width=768, height=1024)"
   ]
  },
  {
   "cell_type": "code",
   "execution_count": null,
   "metadata": {},
   "outputs": [],
   "source": [
    "test = cv2.imread('./images/raw/canny0.jpg',0)\n",
    "test = cv2.Canny(test,20,30)\n",
    "CImgBase.SaveImg(test,\"./images/out/canny0.jpg\")\n",
    "Image(url= \"./images/out/canny0.jpg\",width=768, height=1024)\n",
    "#Image(url= \"./images/raw/canny0.jpg\",width=768, height=1024)"
   ]
  },
  {
   "cell_type": "code",
   "execution_count": 60,
   "metadata": {},
   "outputs": [
    {
     "data": {
      "text/html": [
       "<img src=\"./images/out/canny2.jpg\" width=\"768\" height=\"1024\"/>"
      ],
      "text/plain": [
       "<IPython.core.display.Image object>"
      ]
     },
     "execution_count": 60,
     "metadata": {},
     "output_type": "execute_result"
    }
   ],
   "source": [
    "test = cv2.imread('./images/raw/test2.jpeg',0)\n",
    "test = cv2.Canny(test,128,255)\n",
    "CImgBase.SaveImg(test,\"./images/out/canny2.jpg\")\n",
    "Image(url= \"./images/out/canny2.jpg\",width=768, height=1024)\n",
    "#Image(url= \"./images/raw/canny2.jpg\",width=768, height=1024)"
   ]
  },
  {
   "cell_type": "code",
   "execution_count": 11,
   "metadata": {},
   "outputs": [
    {
     "data": {
      "text/html": [
       "<img src=\"./images/raw/canny1.jpg\" width=\"768\" height=\"1024\"/>"
      ],
      "text/plain": [
       "<IPython.core.display.Image object>"
      ]
     },
     "execution_count": 11,
     "metadata": {},
     "output_type": "execute_result"
    }
   ],
   "source": [
    "test = cv2.imread('./images/raw/canny1.jpg',0)\n",
    "test = cv2.Canny(test,15,55)\n",
    "CImgBase.SaveImg(test,\"./images/out/canny1.jpg\")\n",
    "Image(url= \"./images/out/canny1.jpg\",width=768, height=1024)\n",
    "Image(url= \"./images/raw/canny1.jpg\",width=768, height=1024)"
   ]
  },
  {
   "cell_type": "code",
   "execution_count": null,
   "metadata": {},
   "outputs": [],
   "source": []
  },
  {
   "cell_type": "code",
   "execution_count": null,
   "metadata": {},
   "outputs": [],
   "source": []
  }
 ],
 "metadata": {
  "kernelspec": {
   "display_name": "Python 3",
   "language": "python",
   "name": "python3"
  },
  "language_info": {
   "codemirror_mode": {
    "name": "ipython",
    "version": 3
   },
   "file_extension": ".py",
   "mimetype": "text/x-python",
   "name": "python",
   "nbconvert_exporter": "python",
   "pygments_lexer": "ipython3",
   "version": "3.6.2"
  }
 },
 "nbformat": 4,
 "nbformat_minor": 2
}
