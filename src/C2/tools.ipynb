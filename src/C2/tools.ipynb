{
 "cells": [
  {
   "cell_type": "markdown",
   "metadata": {},
   "source": [
    "# 标准化"
   ]
  },
  {
   "cell_type": "code",
   "execution_count": 2,
   "metadata": {},
   "outputs": [
    {
     "name": "stdout",
     "output_type": "stream",
     "text": [
      "StandardScaler()\n",
      "raw:\n",
      " [[0, 0], [0, 0], [1, 1], [1, 1]]\n",
      "scaled:\n",
      " [[-1. -1.]\n",
      " [-1. -1.]\n",
      " [ 1.  1.]\n",
      " [ 1.  1.]]\n",
      "recovered:\n",
      " [[0. 0.]\n",
      " [0. 0.]\n",
      " [1. 1.]\n",
      " [1. 1.]]\n"
     ]
    }
   ],
   "source": [
    "from sklearn.preprocessing import StandardScaler\n",
    "data = [[0, 0], [0, 0], [1, 1], [1, 1]]\n",
    "scaler = StandardScaler()\n",
    "print(scaler.fit(data))\n",
    "data_scaled = scaler.transform(data)\n",
    "data_recovered = scaler.inverse_transform(data_scaled)\n",
    "print(\"raw:\\n\",data)\n",
    "print(\"scaled:\\n\",data_scaled)\n",
    "print(\"recovered:\\n\",data_recovered)"
   ]
  },
  {
   "cell_type": "markdown",
   "metadata": {},
   "source": [
    "# 特征提取"
   ]
  },
  {
   "cell_type": "code",
   "execution_count": 1,
   "metadata": {},
   "outputs": [
    {
     "name": "stdout",
     "output_type": "stream",
     "text": [
      "feature names  ['city=Dubai', 'city=London', 'city=San Francisco', 'temperature']\n",
      "features (one-hot) [[ 1.  0.  0. 33.]\n",
      " [ 0.  1.  0. 12.]\n",
      " [ 0.  0.  1. 18.]]\n"
     ]
    }
   ],
   "source": [
    "from sklearn.feature_extraction import DictVectorizer\n",
    "measurements = [\n",
    "   {'city': 'Dubai', 'temperature': 33.},\n",
    "   {'city': 'London', 'temperature': 12.},\n",
    "   {'city': 'San Francisco', 'temperature': 18.},\n",
    "]\n",
    "vec = DictVectorizer(sparse=True)# #sparse=True意思是产生稀疏矩阵\n",
    "feature_one_hot = vec.fit_transform(measurements).toarray()\n",
    "print(\"feature names \",vec.get_feature_names())\n",
    "print(\"features (one-hot)\",feature_one_hot)\n"
   ]
  },
  {
   "cell_type": "markdown",
   "metadata": {},
   "source": [
    "# one hot编码"
   ]
  },
  {
   "cell_type": "code",
   "execution_count": 2,
   "metadata": {},
   "outputs": [
    {
     "name": "stdout",
     "output_type": "stream",
     "text": [
      "labels: [1 2 0 3]\n",
      "raw data: [[1, 2, 3, 4], [5, 6, 7, 8]]\n",
      "One hot:   (0, 0)\t1.0\n",
      "  (0, 2)\t1.0\n",
      "  (0, 4)\t1.0\n",
      "  (0, 6)\t1.0\n",
      "  (1, 1)\t1.0\n",
      "  (1, 3)\t1.0\n",
      "  (1, 5)\t1.0\n",
      "  (1, 7)\t1.0\n",
      "recovered data: [[1 2 3 4]\n",
      " [5 6 7 8]]\n"
     ]
    }
   ],
   "source": [
    "from sklearn.preprocessing import OneHotEncoder,LabelEncoder\n",
    "\n",
    "labels = ['nanjing','shanghai','beijing','shenzhen']\n",
    "datas = [[1,2,3,4],[5,6,7,8]]\n",
    "le = LabelEncoder()\n",
    "labels = le.fit_transform(labels)\n",
    "print(\"labels:\",labels)\n",
    "\n",
    "print(\"raw data:\",datas)\n",
    "ohe = OneHotEncoder()\n",
    "trans_feature = ohe.fit_transform(datas)\n",
    "print(\"One hot:\",trans_feature) #第i行第j列为1，其它为0 print(trans_feature.toarray())\n",
    "trans_feature = ohe.inverse_transform(trans_feature)\n",
    "print(\"recovered data:\",trans_feature)"
   ]
  },
  {
   "cell_type": "markdown",
   "metadata": {},
   "source": [
    "# 中心极限定理"
   ]
  },
  {
   "cell_type": "code",
   "execution_count": 3,
   "metadata": {},
   "outputs": [
    {
     "data": {
      "image/png": "[encoded data removed]",
      "text/plain": [
       "<Figure size 576x288 with 1 Axes>"
      ]
     },
     "metadata": {
      "needs_background": "light"
     },
     "output_type": "display_data"
    },
    {
     "data": {
      "image/png": "[encoded data removed]",
      "text/plain": [
       "<Figure size 576x288 with 1 Axes>"
      ]
     },
     "metadata": {
      "needs_background": "light"
     },
     "output_type": "display_data"
    }
   ],
   "source": [
    "import seaborn as sns\n",
    "import matplotlib as mpl\n",
    "import matplotlib.pyplot as plt\n",
    "import numpy as np\n",
    "plt.style.use({'figure.figsize':(8, 4)})\n",
    "\n",
    "def ShowData(data_list):\n",
    "    plt.hist(data_list,100)\n",
    "    plt.show()\n",
    "\n",
    "#随机产生1000个0～1之间均匀分布的数\n",
    "u = np.random.uniform(0.0,1.0,1000)\n",
    "#统计不同区间段(如[0~0.01]～[0.09～1])的数字出现的次数\n",
    "ShowData(u)\n",
    "\n",
    "all = []\n",
    "for i in range(100000):\n",
    "    #随机产生1000个0～1之间均匀分布的数\n",
    "    u = np.random.uniform(0.0,1.0,1000)\n",
    "    #计算平均值\n",
    "    data = np.mean(u)\n",
    "    all.append(data)\n",
    "#再统计不同区间段(如[0~0.01]～[0.09～1])的数字出现的次数\n",
    "ShowData(all)"
   ]
  },
  {
   "cell_type": "markdown",
   "metadata": {},
   "source": [
    "# 差分还原"
   ]
  },
  {
   "cell_type": "code",
   "execution_count": 4,
   "metadata": {},
   "outputs": [
    {
     "name": "stdout",
     "output_type": "stream",
     "text": [
      "2000-12-31     10.0\n",
      "2001-12-31     21.0\n",
      "2002-12-31     23.0\n",
      "2003-12-31      4.0\n",
      "2004-12-31     54.0\n",
      "2005-12-31     66.0\n",
      "2006-12-31     17.0\n",
      "2007-12-31     28.0\n",
      "2008-12-31     19.0\n",
      "2009-12-31    120.0\n",
      "2010-12-31    101.0\n",
      "2011-12-31    102.0\n",
      "2012-12-31     13.0\n",
      "Freq: A-DEC, dtype: float64\n"
     ]
    }
   ],
   "source": [
    "import pandas as pd\n",
    "time_series = pd.Series([10,21,23,4,54,66,17,28,19,120,101,102,13],index=pd.date_range(start='2000', periods=13, freq='a'))\n",
    "time_series_diff = time_series.diff(1)\n",
    "\n",
    "time_series_shift = time_series.shift(1)\n",
    "diff_recover = time_series_diff.add(time_series_shift)\n",
    "diff_recover[0] = time_series[0]\n",
    "print(diff_recover)"
   ]
  },
  {
   "cell_type": "markdown",
   "metadata": {},
   "source": [
    "# 移动平均还原"
   ]
  },
  {
   "cell_type": "code",
   "execution_count": 5,
   "metadata": {},
   "outputs": [
    {
     "data": {
      "text/plain": [
       "0       NaN\n",
       "1       NaN\n",
       "2       3.0\n",
       "3       4.0\n",
       "4       5.0\n",
       "5       6.0\n",
       "6       7.0\n",
       "7       8.0\n",
       "8       9.0\n",
       "9      10.0\n",
       "10     11.0\n",
       "11    102.0\n",
       "12     13.0\n",
       "dtype: float64"
      ]
     },
     "execution_count": 5,
     "metadata": {},
     "output_type": "execute_result"
    }
   ],
   "source": [
    "import pandas as pd\n",
    "time_series = pd.Series([15,2,3,4,5,6,7,8,9,10,11,102,13])\n",
    "rol_mean = time_series.rolling(window=3).mean()\n",
    "rol_sum = time_series.rolling(window=2).sum()\n",
    "rol_recover = rol_mean*3 - rol_sum.shift(1)\n",
    "rol_recover"
   ]
  },
  {
   "cell_type": "markdown",
   "metadata": {},
   "source": [
    "# 平滑+差分还原"
   ]
  },
  {
   "cell_type": "code",
   "execution_count": 6,
   "metadata": {
    "scrolled": false
   },
   "outputs": [
    {
     "data": {
      "text/plain": [
       "0      NaN\n",
       "1      NaN\n",
       "2      NaN\n",
       "3      5.0\n",
       "4      4.0\n",
       "5      6.0\n",
       "6      3.0\n",
       "7      2.0\n",
       "8      8.0\n",
       "9      0.0\n",
       "10    11.0\n",
       "11    16.0\n",
       "12    11.0\n",
       "dtype: float64"
      ]
     },
     "execution_count": 6,
     "metadata": {},
     "output_type": "execute_result"
    }
   ],
   "source": [
    "import pandas as pd\n",
    "time_series = pd.Series([1,3,2,5,4,6,3,2,8,0,11,16,11])\n",
    "\n",
    "#周期3平滑\n",
    "raw_mean = time_series.rolling(window=3).mean()\n",
    "raw_sum = time_series.rolling(window=2).sum()\n",
    "#一阶差分\n",
    "mean_diff = raw_mean.diff(1)\n",
    "\n",
    "#一阶差分还原\n",
    "mean_shift = raw_mean.shift(1)\n",
    "mean_recover = mean_shift.add(mean_diff)\n",
    "mean_recover[0] = raw_mean[0]\n",
    "# 移动平均还原\n",
    "time_series_recover = mean_recover*3 - raw_sum.shift(1)\n",
    "time_series_recover"
   ]
  },
  {
   "cell_type": "markdown",
   "metadata": {},
   "source": [
    "# ROC/AUX"
   ]
  },
  {
   "cell_type": "code",
   "execution_count": 1,
   "metadata": {
    "scrolled": false
   },
   "outputs": [
    {
     "name": "stdout",
     "output_type": "stream",
     "text": [
      "fpr: [0.         0.02083333 0.02083333 0.0625     0.0625     0.08333333\n",
      " 0.08333333 0.10416667 0.10416667 0.20833333 0.20833333 0.22916667\n",
      " 0.22916667 0.25       0.25       0.27083333 0.27083333 0.29166667\n",
      " 0.29166667 0.3125     0.3125     0.33333333 0.33333333 0.35416667\n",
      " 0.35416667 0.39583333 0.39583333 0.41666667 0.41666667 0.45833333\n",
      " 0.45833333 0.5        0.5        0.54166667 0.54166667 0.60416667\n",
      " 0.60416667 0.625      0.625      0.64583333 0.64583333 0.70833333\n",
      " 0.70833333 0.72916667 0.72916667 0.8125     0.8125     0.89583333\n",
      " 0.89583333 0.95833333 0.95833333 0.97916667 0.97916667 1.        ]\n",
      "tpr: [0.         0.         0.01960784 0.01960784 0.03921569 0.03921569\n",
      " 0.05882353 0.05882353 0.07843137 0.07843137 0.09803922 0.09803922\n",
      " 0.19607843 0.19607843 0.2745098  0.2745098  0.35294118 0.35294118\n",
      " 0.43137255 0.43137255 0.45098039 0.45098039 0.47058824 0.47058824\n",
      " 0.49019608 0.49019608 0.50980392 0.50980392 0.58823529 0.58823529\n",
      " 0.68627451 0.68627451 0.70588235 0.70588235 0.74509804 0.74509804\n",
      " 0.76470588 0.76470588 0.82352941 0.82352941 0.84313725 0.84313725\n",
      " 0.8627451  0.8627451  0.88235294 0.88235294 0.92156863 0.92156863\n",
      " 0.94117647 0.94117647 0.98039216 0.98039216 1.         1.        ]\n",
      "thresholds: [1.99956451 0.99956451 0.98973414 0.96080961 0.95647712 0.95505204\n",
      " 0.95197059 0.94146723 0.92539052 0.8900438  0.88566372 0.87489663\n",
      " 0.82160725 0.80996191 0.73406472 0.71471547 0.69606981 0.69024611\n",
      " 0.64771336 0.63091792 0.62803699 0.61570895 0.60233361 0.59603544\n",
      " 0.59468289 0.54319515 0.51725062 0.49823022 0.46854576 0.46446787\n",
      " 0.43824967 0.43579646 0.42754049 0.38789445 0.35493013 0.34342245\n",
      " 0.3310968  0.31822955 0.30427746 0.29883196 0.28375392 0.24931386\n",
      " 0.24599657 0.21038795 0.20460732 0.16179853 0.15506021 0.11327983\n",
      " 0.10434878 0.08038225 0.07311347 0.03934702 0.03917278 0.02267248]\n",
      "AUC: 0.5727124183006537\n"
     ]
    },
    {
     "data": {
      "image/png": "[encoded data removed]",
      "text/plain": [
       "<Figure size 432x288 with 1 Axes>"
      ]
     },
     "metadata": {
      "needs_background": "light"
     },
     "output_type": "display_data"
    }
   ],
   "source": [
    "import numpy as np\n",
    "import matplotlib.pyplot as plt\n",
    "from sklearn.metrics import roc_curve  \n",
    "from sklearn.metrics import auc  \n",
    "\n",
    "#y = np.array([1,1,2,2])\n",
    "#pred = np.array([0.1, 0.4, 0.35, 0.8])\n",
    "\n",
    "y = np.linspace(0,100,99).astype(\"int32\")\n",
    "y = y % 2\n",
    "pred = np.random.rand(99,1).reshape(-1,)\n",
    "\n",
    "fpr, tpr, thresholds = roc_curve(y, pred, pos_label=0) \n",
    "print('fpr: ' + str(fpr))\n",
    "print('tpr: ' + str(tpr))\n",
    "print('thresholds: ' + str(thresholds))\n",
    "\n",
    "AUC = auc(fpr, tpr) \n",
    "print('AUC: ' + str(AUC))\n",
    " \n",
    "plt.plot(fpr, tpr)  \n",
    "plt.title('ROC_curve' + '(AUC: ' + str(AUC) + ')' )  \n",
    "plt.ylabel('True Positive Rate')  \n",
    "plt.xlabel('False Positive Rate')  \n",
    "plt.show()"
   ]
  },
  {
   "cell_type": "code",
   "execution_count": 8,
   "metadata": {},
   "outputs": [
    {
     "name": "stdout",
     "output_type": "stream",
     "text": [
      "[6 5 5 9 9]\n",
      "=============================================\n",
      "[0.25 0.   0.   1.   1.  ]\n",
      "=============================================\n",
      "[-0.43643578 -0.98198051 -0.98198051  1.2001984   1.2001984 ]\n"
     ]
    }
   ],
   "source": [
    "from sklearn import preprocessing\n",
    "from sklearn.preprocessing import MinMaxScaler, StandardScaler\n",
    "from sklearn import preprocessing\n",
    "import numpy as np\n",
    "raw = np.random.randint(1,10,size=5)\n",
    "raw = raw.reshape(-1,1)\n",
    "data = MinMaxScaler().fit_transform(raw)\n",
    "print(raw.reshape(-1,))\n",
    "print(\"=============================================\")\n",
    "print(data.reshape(-1,))\n",
    "scaler = preprocessing.scale(raw)\n",
    "print(\"=============================================\")\n",
    "print(scaler.reshape(-1,))"
   ]
  },
  {
   "cell_type": "code",
   "execution_count": 2,
   "metadata": {},
   "outputs": [
    {
     "name": "stdout",
     "output_type": "stream",
     "text": [
      "2.3.0\n"
     ]
    }
   ],
   "source": [
    "import tensorflow as tf\n",
    "print(tf.__version__)"
   ]
  },
  {
   "cell_type": "code",
   "execution_count": 2,
   "metadata": {},
   "outputs": [
    {
     "name": "stdout",
     "output_type": "stream",
     "text": [
      "4.3.0\n"
     ]
    }
   ],
   "source": [
    "import cv2\n",
    "print(cv2.__version__)"
   ]
  },
  {
   "cell_type": "code",
   "execution_count": 3,
   "metadata": {},
   "outputs": [
    {
     "name": "stdout",
     "output_type": "stream",
     "text": [
      "0.23.2\n"
     ]
    }
   ],
   "source": [
    "import sklearn\n",
    "print(sklearn.__version__)"
   ]
  },
  {
   "cell_type": "code",
   "execution_count": 4,
   "metadata": {},
   "outputs": [
    {
     "name": "stdout",
     "output_type": "stream",
     "text": [
      "1.16.2\n"
     ]
    }
   ],
   "source": [
    "import numpy\n",
    "print(numpy.__version__)"
   ]
  },
  {
   "cell_type": "code",
   "execution_count": 5,
   "metadata": {},
   "outputs": [
    {
     "name": "stdout",
     "output_type": "stream",
     "text": [
      "1.1.0\n"
     ]
    }
   ],
   "source": [
    "import pandas\n",
    "print(pandas.__version__)"
   ]
  },
  {
   "cell_type": "code",
   "execution_count": 7,
   "metadata": {},
   "outputs": [
    {
     "name": "stdout",
     "output_type": "stream",
     "text": [
      "3.3.0\n"
     ]
    }
   ],
   "source": [
    "from matplotlib import pyplot as plt\n",
    "import matplotlib\n",
    "print(matplotlib.__version__)"
   ]
  },
  {
   "cell_type": "code",
   "execution_count": 9,
   "metadata": {},
   "outputs": [
    {
     "name": "stdout",
     "output_type": "stream",
     "text": [
      "0.10.1\n"
     ]
    }
   ],
   "source": [
    "import seaborn as sns\n",
    "print(sns.__version__)"
   ]
  },
  {
   "cell_type": "code",
   "execution_count": null,
   "metadata": {},
   "outputs": [],
   "source": []
  }
 ],
 "metadata": {
  "celltoolbar": "幻灯片",
  "kernelspec": {
   "display_name": "Python 3",
   "language": "python",
   "name": "python3"
  },
  "language_info": {
   "codemirror_mode": {
    "name": "ipython",
    "version": 3
   },
   "file_extension": ".py",
   "mimetype": "text/x-python",
   "name": "python",
   "nbconvert_exporter": "python",
   "pygments_lexer": "ipython3",
   "version": "3.6.2"
  }
 },
 "nbformat": 4,
 "nbformat_minor": 2
}
