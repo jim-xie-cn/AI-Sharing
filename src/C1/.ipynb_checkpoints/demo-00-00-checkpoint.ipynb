{
 "cells": [
  {
   "cell_type": "code",
   "execution_count": 40,
   "metadata": {},
   "outputs": [
    {
     "name": "stdout",
     "output_type": "stream",
     "text": [
      "0.9.0\n"
     ]
    }
   ],
   "source": [
    "import sys\n",
    "#!{sys.executable} -m pip install seaborn==0.9.0\n",
    "import seaborn\n",
    "print(seaborn.__version__)\n",
    "import random\n",
    "from mpl_toolkits.mplot3d import Axes3D\n",
    "%matplotlib inline\n",
    "import matplotlib.pyplot as plt\n",
    "import numpy as np\n",
    "from sklearn.linear_model import LinearRegression\n",
    "#plt.figure(figsize=(15,10))"
   ]
  },
  {
   "cell_type": "code",
   "execution_count": 41,
   "metadata": {},
   "outputs": [],
   "source": [
    "def random_data():\n",
    "    x = random.randint(0,100)\n",
    "    #x = random.random()\n",
    "    return x\n",
    "\n",
    "def generate_data(x1,x2):\n",
    "    y = (x1*x2)/2\n",
    "    #y = 10 * x1 + x2\n",
    "    #y = (x1 + x2) /2\n",
    "    return y"
   ]
  },
  {
   "cell_type": "code",
   "execution_count": null,
   "metadata": {},
   "outputs": [],
   "source": [
    "train_x = []\n",
    "train_y = []\n",
    "for i in range(20000):\n",
    "    x1 = random_data()\n",
    "    x2 = random_data()\n",
    "    x = [x1,x2]\n",
    "    train_x.append(x)\n",
    "    y = generate_data(x1,x2)\n",
    "    train_y.append(y)"
   ]
  },
  {
   "cell_type": "code",
   "execution_count": null,
   "metadata": {
    "scrolled": true
   },
   "outputs": [],
   "source": [
    "plt.style.use({'figure.figsize':(24, 8)})\n",
    "fig = plt.figure()\n",
    "ax = Axes3D(fig)\n",
    "x1_axis = []\n",
    "x2_axis = []\n",
    "y_axis = []\n",
    "for x,y in zip(train_x,train_y):\n",
    "    x1_axis.append(x[0])\n",
    "    x2_axis.append(x[1])\n",
    "    y_axis.append(y) \n",
    "ax.scatter(x1_axis, x2_axis, y_axis,depthshade=True,s=600,c='r')\n",
    "ax.ticklabel_format(style='plain',axis='both')    \n",
    "font2 = {'family' : 'Times New Roman','weight' : 'normal','size'   : 30,\"color\":\"blue\"}\n",
    "ax.set_xlabel(\"X1\",font2,labelpad=60)\n",
    "ax.set_ylabel(\"X2\",font2,labelpad=60)\n",
    "ax.set_zlabel(\"Y\",font2,labelpad=30)\n",
    "ax.grid(False)\n",
    "ax.xaxis.pane.fill=False\n",
    "ax.yaxis.pane.fill=False\n",
    "ax.zaxis.pane.fill=False\n",
    "plt.grid(linestyle=':')\n",
    "plt.tick_params(labelsize=24)\n",
    "plt.show()"
   ]
  },
  {
   "cell_type": "code",
   "execution_count": null,
   "metadata": {},
   "outputs": [],
   "source": [
    "model = LinearRegression() \n",
    "model.fit(train_x,train_y)"
   ]
  },
  {
   "cell_type": "code",
   "execution_count": null,
   "metadata": {},
   "outputs": [],
   "source": [
    "test_x = []\n",
    "test_y = []\n",
    "for i in range(20):\n",
    "    x1 = random_data()\n",
    "    x2 = random_data()\n",
    "    test_x.append([x1,x2])\n",
    "    y = generate_data(x1,x2)\n",
    "    test_y.append(y)\n",
    "pred_y = model.predict(test_x)\n",
    "pred_y = pred_y - 0.5\n",
    "print(\"x1    x2     y\")\n",
    "for x,y in zip(test_x,test_y):\n",
    "    print(x[0],\"  \",x[1],\"    \",y)"
   ]
  },
  {
   "cell_type": "code",
   "execution_count": null,
   "metadata": {},
   "outputs": [],
   "source": [
    "plt.plot(test_y)\n",
    "plt.plot(pred_y)\n",
    "plt.show()  "
   ]
  },
  {
   "cell_type": "code",
   "execution_count": null,
   "metadata": {},
   "outputs": [],
   "source": [
    "input_x1 = 42 #random_data()\n",
    "input_x2 = 50 #random_data()\n",
    "result = model.predict([[input_x1,input_x2]])\n",
    "msg = \"F(%.02f,%.02f)=%.02f\"%(input_x1,input_x2,result[0])\n",
    "print(msg)"
   ]
  },
  {
   "cell_type": "code",
   "execution_count": null,
   "metadata": {},
   "outputs": [],
   "source": [
    "from sklearn import metrics\n",
    "from sklearn.metrics import auc\n",
    "from sklearn.metrics import accuracy_score"
   ]
  },
  {
   "cell_type": "code",
   "execution_count": null,
   "metadata": {},
   "outputs": [],
   "source": [
    "print(metrics.r2_score(test_y,pred_y,multioutput=\"uniform_average\"))\n",
    "print(metrics.r2_score(test_y,pred_y,multioutput=\"raw_values\"))"
   ]
  },
  {
   "cell_type": "code",
   "execution_count": null,
   "metadata": {},
   "outputs": [],
   "source": [
    "print(model.score(test_x,test_y))\n",
    "print(metrics.r2_score(test_y, pred_y))"
   ]
  },
  {
   "cell_type": "code",
   "execution_count": null,
   "metadata": {},
   "outputs": [],
   "source": [
    "metrics.explained_variance_score(test_y,pred_y)"
   ]
  },
  {
   "cell_type": "code",
   "execution_count": null,
   "metadata": {},
   "outputs": [],
   "source": [
    "metrics.mean_absolute_error(test_y,pred_y)"
   ]
  },
  {
   "cell_type": "code",
   "execution_count": null,
   "metadata": {},
   "outputs": [],
   "source": [
    "metrics.mean_squared_error(test_y,pred_y)"
   ]
  },
  {
   "cell_type": "code",
   "execution_count": null,
   "metadata": {},
   "outputs": [],
   "source": [
    "metrics.median_absolute_error(test_y,pred_y)"
   ]
  },
  {
   "cell_type": "code",
   "execution_count": null,
   "metadata": {},
   "outputs": [],
   "source": []
  }
 ],
 "metadata": {
  "kernelspec": {
   "display_name": "Python 3",
   "language": "python",
   "name": "python3"
  },
  "language_info": {
   "codemirror_mode": {
    "name": "ipython",
    "version": 3
   },
   "file_extension": ".py",
   "mimetype": "text/x-python",
   "name": "python",
   "nbconvert_exporter": "python",
   "pygments_lexer": "ipython3",
   "version": "3.7.3"
  }
 },
 "nbformat": 4,
 "nbformat_minor": 2
}
