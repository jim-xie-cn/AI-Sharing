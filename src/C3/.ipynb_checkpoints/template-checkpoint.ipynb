{
 "cells": [
  {
   "cell_type": "code",
   "execution_count": 1,
   "metadata": {},
   "outputs": [],
   "source": [
    "# -*- coding: utf-8 -*- \n",
    "import sys,os,logging,time,json,cv2,json,threading,uuid,logging,cv2,datetime\n",
    "from FOCCommon import CFOCCommon\n",
    "from FOCClient import CFOCClient\n",
    "from ImgBase import CImgBase\n",
    "from IPython.display import Image\n",
    "from IPython.core.display import HTML\n",
    "import numpy as np\n",
    "%matplotlib inline\n",
    "g_root_path = \"/Users/JimXie/Desktop/What/Face/Demo/\""
   ]
  },
  {
   "cell_type": "code",
   "execution_count": null,
   "metadata": {},
   "outputs": [],
   "source": [
    "def SplitTemplate():\n",
    "    file_name = '%s/images/raw/all.jpg'%g_root_path\n",
    "    faces = CFOCClient().GetTiny(file_name)\n",
    "    raw_img = CFOCCommon.ReadImg(file_name)\n",
    "    filepath = \"./images/temp/\"\n",
    "    for i in range(len(faces)):\n",
    "        item = faces[i]\n",
    "        rect = item[0]\n",
    "        score = item[1]\n",
    "        if score > 0.95:\n",
    "            face_img = CImgBase.GetSubImage(raw_img,rect)\n",
    "            t_file = \"%s/%d.jpg\"%(filepath,i)\n",
    "            CImgBase.SaveImg(face_img,t_file)\n",
    "    print(\"face saved \", len(faces),filepath)"
   ]
  },
  {
   "cell_type": "code",
   "execution_count": null,
   "metadata": {},
   "outputs": [],
   "source": [
    "SplitTemplate()"
   ]
  },
  {
   "cell_type": "code",
   "execution_count": null,
   "metadata": {},
   "outputs": [],
   "source": [
    "def GetFeature(file_name):\n",
    "    faces = CFOCClient().GetTiny(file_name)\n",
    "    raw_img = CFOCCommon.ReadImg(file_name)\n",
    "    filename,extension,filepath = CFOCCommon.GetFileInfo(file_name)\n",
    "    if filename.find(\"_t\") >=0: return None,None\n",
    "    filepath = \"%s/images/temp/\"%g_root_path\n",
    "    for item in faces:\n",
    "        rect = item[0]\n",
    "        if rect[0][0] < 0: rect[0][0] = 0\n",
    "        if rect[0][1] < 0: rect[0][1] = 0\n",
    "        score = item[1]\n",
    "        if score > 0.95:\n",
    "            face_img = CImgBase.GetSubImage(raw_img.copy(),rect)\n",
    "            t_file = \"%s/%s_t.jpg\"%(filepath,filename)\n",
    "            CImgBase.SaveImg(face_img,t_file)\n",
    "            res = CFOCClient().GetFaceFeature(t_file)\n",
    "            return filename,res\n",
    "    return None,None"
   ]
  },
  {
   "cell_type": "code",
   "execution_count": null,
   "metadata": {},
   "outputs": [],
   "source": [
    "fList = CFOCCommon.GetAllFiles('%s/images/template/'%g_root_path,['.jpg'])\n",
    "data = {}\n",
    "for fi in fList:\n",
    "    user,feature = GetFeature(fi)\n",
    "    if user:\n",
    "        data[user] = feature\n",
    "    print(\"creating \",user)\n",
    "CFOCCommon.Write(\"%s/images/template/all.json\"%g_root_path,json.dumps(data))\n",
    "print(\"template created \",len(data))"
   ]
  },
  {
   "cell_type": "code",
   "execution_count": 22,
   "metadata": {},
   "outputs": [
    {
     "name": "stdout",
     "output_type": "stream",
     "text": [
      "9 45 900\n",
      "8 40 800\n",
      "7 35 700\n",
      "6 30 600\n",
      "5 25 500\n",
      "4 20 400\n",
      "3 15 300\n",
      "2 10 200\n",
      "1 5 100\n",
      "0 0 0\n"
     ]
    }
   ],
   "source": [
    "import numpy as np\n",
    "import pandas as pd\n",
    "data = []\n",
    "for i in range(10):\n",
    "    tmp = {}\n",
    "    tmp['id'] = i*5\n",
    "    tmp['value'] = i * 100\n",
    "    data.append(tmp)\n",
    "    \n",
    "df = pd.DataFrame(data)\n",
    "df = df.sort_values(\"value\",ascending=False)\n",
    "#print(df.tail(50))\n",
    "for index, row in df.iterrows():\n",
    "    print(index,row['id'],row['value'])"
   ]
  },
  {
   "cell_type": "code",
   "execution_count": null,
   "metadata": {},
   "outputs": [],
   "source": []
  }
 ],
 "metadata": {
  "kernelspec": {
   "display_name": "Python 3",
   "language": "python",
   "name": "python3"
  },
  "language_info": {
   "codemirror_mode": {
    "name": "ipython",
    "version": 3
   },
   "file_extension": ".py",
   "mimetype": "text/x-python",
   "name": "python",
   "nbconvert_exporter": "python",
   "pygments_lexer": "ipython3",
   "version": "3.7.3"
  }
 },
 "nbformat": 4,
 "nbformat_minor": 2
}
