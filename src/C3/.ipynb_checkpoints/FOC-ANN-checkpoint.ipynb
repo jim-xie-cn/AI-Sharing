{
 "cells": [
  {
   "cell_type": "code",
   "execution_count": 1,
   "metadata": {
    "scrolled": true
   },
   "outputs": [],
   "source": [
    "# -*- coding: utf-8 -*- \n",
    "import numpy as np\n",
    "import random\n",
    "from matplotlib import pyplot as plt\n",
    "import numpy as np\n",
    "import tensorflow as tf\n",
    "%matplotlib inline"
   ]
  },
  {
   "cell_type": "markdown",
   "metadata": {},
   "source": [
    "# 神经网络demo：封装类"
   ]
  },
  {
   "cell_type": "code",
   "execution_count": 2,
   "metadata": {},
   "outputs": [],
   "source": [
    "class CNeuralNetwork(object):\n",
    "    def __init__(self):\n",
    "        self.m_x = np.array([])\n",
    "        self.m_y = np.array([])\n",
    "        self.m_tx = None\n",
    "        self.m_ty = None\n",
    "        self.m_sess = tf.Session()\n",
    "        \n",
    "    def Initialize(self):\n",
    "        self.m_tx = tf.placeholder(tf.float32, [None, self.m_x.shape[1]])\n",
    "        self.m_ty = tf.placeholder(tf.float32, [None, self.m_y.shape[1]])\n",
    "        \n",
    "    def Create_Input(self,n_hidden_count):\n",
    "        dim = self.m_tx.shape[1].value\n",
    "        w = tf.Variable( tf.truncated_normal([dim, n_hidden_count]), name = 'w' )\n",
    "        b = tf.Variable( tf.constant(0.1, shape=[n_hidden_count]), name = 'b' )\n",
    "        h = tf.matmul(self.m_tx, w)+b\n",
    "        h = tf.nn.tanh(h)\n",
    "        return h\n",
    "    \n",
    "    def Create_Hidden(self,in_data,n_hidden_count):\n",
    "        dim = in_data.shape[1].value\n",
    "        w = tf.Variable( tf.truncated_normal([dim, n_hidden_count]), name = 'w')\n",
    "        b = tf.Variable( tf.constant(0.1, shape=[n_hidden_count],name = 'b'))\n",
    "        h = tf.matmul(in_data, w)+b\n",
    "        h = tf.nn.tanh(h)\n",
    "        return h\n",
    "    \n",
    "    def Create_Output(self,in_data):\n",
    "        out_dim = self.m_ty.shape[1].value\n",
    "        dim = in_data.shape[1].value\n",
    "        w = tf.Variable( tf.truncated_normal([dim, out_dim]), name = 'w')\n",
    "        b = tf.Variable( tf.constant(1.0, shape=[out_dim], name = 'b'))\n",
    "        o = tf.matmul(in_data, w)+b\n",
    "        o = tf.nn.tanh(o)\n",
    "        return o\n",
    "    \n",
    "    def Create_Loss(self,output):\n",
    "        loss = tf.reduce_mean(tf.square(self.m_ty - output))\n",
    "        train = tf.train.GradientDescentOptimizer(0.1).minimize(loss)\n",
    "        return train\n",
    "    \n",
    "    def Train(self,loss,n_times):\n",
    "        init = tf.global_variables_initializer()\n",
    "        self.m_sess.run(init)\n",
    "        for _ in range(n_times):\n",
    "            self.m_sess.run(loss, feed_dict = {self.m_tx:self.m_x, self.m_ty:self.m_y})\n",
    "    \n",
    "    def Predict(self,output,data):\n",
    "        return self.m_sess.run(output, feed_dict = {self.m_tx:data})"
   ]
  },
  {
   "cell_type": "code",
   "execution_count": 8,
   "metadata": {},
   "outputs": [
    {
     "data": {
      "image/png": "[encoded data removed]",
      "text/plain": [
       "<Figure size 432x288 with 1 Axes>"
      ]
     },
     "metadata": {
      "needs_background": "light"
     },
     "output_type": "display_data"
    }
   ],
   "source": [
    "x_data = np.linspace(-0.5, 0.5, 200)[:, np.newaxis]  \n",
    "noise = np.random.normal(0, 0.02, x_data.shape)       \n",
    "y_data = np.square(x_data) + noise\n",
    "nn = CNeuralNetwork()\n",
    "nn.m_x = x_data\n",
    "nn.m_y = y_data\n",
    "nn.Initialize()\n",
    "\n",
    "L1  = nn.Create_Input(10)\n",
    "L2 =  nn.Create_Hidden(L1,20)\n",
    "L3 =  nn.Create_Hidden(L2,50)\n",
    "out =  nn.Create_Output(L3)\n",
    "train = nn.Create_Loss(out)\n",
    "prediction_value = nn.Train(train,50000)\n",
    "prediction_value = nn.Predict(out,x_data)\n",
    "plt.figure()\n",
    "plt.scatter(x_data, y_data)\n",
    "plt.plot(x_data, prediction_value, 'r-', lw = 5)\n",
    "plt.show()"
   ]
  },
  {
   "cell_type": "markdown",
   "metadata": {},
   "source": [
    "# 神经网络demo代码：单步执行"
   ]
  },
  {
   "cell_type": "code",
   "execution_count": null,
   "metadata": {},
   "outputs": [],
   "source": [
    "#使用numpy生成200个随机点（样本点）\n",
    "x_data = np.linspace(-0.5, 0.5, 200)[:, np.newaxis]  \n",
    "noise = np.random.normal(0, 0.02, x_data.shape)       \n",
    "y_data = np.square(x_data) + noise"
   ]
  },
  {
   "cell_type": "code",
   "execution_count": null,
   "metadata": {},
   "outputs": [],
   "source": [
    "x = tf.placeholder(tf.float32, [None, 1])\n",
    "y = tf.placeholder(tf.float32, [None, 1])"
   ]
  },
  {
   "cell_type": "code",
   "execution_count": null,
   "metadata": {},
   "outputs": [],
   "source": [
    "def Create_Input(in_data,n_hidden_count):\n",
    "    dim = in_data.shape[1].value\n",
    "    w = tf.Variable( tf.truncated_normal([dim, n_hidden_count]), name = 'w' )\n",
    "    b = tf.Variable( tf.constant(0.1, shape=[n_hidden_count]), name = 'b' )\n",
    "    h = tf.matmul(in_data, w)+b\n",
    "    h = tf.nn.tanh(h)\n",
    "    return h\n",
    "\n",
    "L1 = Create_Input(x,10)"
   ]
  },
  {
   "cell_type": "code",
   "execution_count": null,
   "metadata": {},
   "outputs": [],
   "source": [
    "def Create_Hidden(in_data,n_hidden_count):\n",
    "    dim = in_data.shape[1].value\n",
    "    w = tf.Variable( tf.truncated_normal([dim, n_hidden_count]), name = 'w')\n",
    "    b = tf.Variable( tf.constant(0.1, shape=[n_hidden_count],name = 'b'))\n",
    "    h = tf.matmul(in_data, w)+b\n",
    "    h = tf.nn.tanh(h)\n",
    "    return h\n",
    "\n",
    "L2 = Create_Hidden(L1,20)\n",
    "L3 = Create_Hidden(L2,10)"
   ]
  },
  {
   "cell_type": "code",
   "execution_count": null,
   "metadata": {},
   "outputs": [],
   "source": [
    "def Create_Output(in_data,out_dim):\n",
    "    dim = in_data.shape[1].value\n",
    "    w = tf.Variable( tf.truncated_normal([dim, out_dim]), name = 'w')\n",
    "    b = tf.Variable( tf.constant(1.0, shape=[out_dim], name = 'b'))\n",
    "    o = tf.matmul(in_data, w)+b\n",
    "    o = tf.nn.tanh(o)\n",
    "    return o\n",
    "prediction = Create_Output(L3,1)"
   ]
  },
  {
   "cell_type": "code",
   "execution_count": null,
   "metadata": {},
   "outputs": [],
   "source": [
    "loss = tf.reduce_mean(tf.square(y - prediction))\n",
    "train_step = tf.train.GradientDescentOptimizer(0.1).minimize(loss)"
   ]
  },
  {
   "cell_type": "code",
   "execution_count": null,
   "metadata": {},
   "outputs": [],
   "source": [
    "#变量初始化\n",
    "init = tf.global_variables_initializer()\n",
    "#定义会话\n",
    "sess = tf.Session()\n",
    "sess.run(init)\n",
    "for _ in range(2000):     #进行2000次训练学习\n",
    "    sess.run(train_step, feed_dict = {x:x_data, y:y_data})"
   ]
  },
  {
   "cell_type": "code",
   "execution_count": null,
   "metadata": {},
   "outputs": [],
   "source": [
    "prediction_value = sess.run(prediction, feed_dict = {x:x_data})\n",
    "plt.figure()\n",
    "plt.scatter(x_data, y_data)\n",
    "plt.plot(x_data, prediction_value, 'r-', lw = 5)\n",
    "plt.show()"
   ]
  },
  {
   "cell_type": "code",
   "execution_count": null,
   "metadata": {},
   "outputs": [],
   "source": []
  }
 ],
 "metadata": {
  "celltoolbar": "Raw Cell Format",
  "kernelspec": {
   "display_name": "Python 3",
   "language": "python",
   "name": "python3"
  },
  "language_info": {
   "codemirror_mode": {
    "name": "ipython",
    "version": 3
   },
   "file_extension": ".py",
   "mimetype": "text/x-python",
   "name": "python",
   "nbconvert_exporter": "python",
   "pygments_lexer": "ipython3",
   "version": "3.7.3"
  }
 },
 "nbformat": 4,
 "nbformat_minor": 2
}
