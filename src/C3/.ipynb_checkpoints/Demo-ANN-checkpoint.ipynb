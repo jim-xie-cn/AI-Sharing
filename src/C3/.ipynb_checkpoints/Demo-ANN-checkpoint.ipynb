{
 "cells": [
  {
   "cell_type": "code",
   "execution_count": 1,
   "metadata": {
    "scrolled": true
   },
   "outputs": [],
   "source": [
    "# -*- coding: utf-8 -*- \n",
    "import numpy as np\n",
    "import random\n",
    "from matplotlib import pyplot as plt\n",
    "import numpy as np\n",
    "import tensorflow as tf\n",
    "%matplotlib inline"
   ]
  },
  {
   "cell_type": "markdown",
   "metadata": {},
   "source": [
    "# 神经网络demo代码：单步执行"
   ]
  },
  {
   "cell_type": "code",
   "execution_count": 2,
   "metadata": {},
   "outputs": [],
   "source": [
    "#使用numpy生成200个随机点（样本点）\n",
    "x_data = np.linspace(-0.5, 0.5, 200)[:, np.newaxis]\n",
    "noise = np.random.normal(0, 0.02, x_data.shape)       \n",
    "y_data = np.square(x_data) + noise"
   ]
  },
  {
   "cell_type": "code",
   "execution_count": 3,
   "metadata": {},
   "outputs": [],
   "source": [
    "x = tf.placeholder(tf.float32, [None, 1])\n",
    "y = tf.placeholder(tf.float32, [None, 1])"
   ]
  },
  {
   "cell_type": "code",
   "execution_count": 4,
   "metadata": {},
   "outputs": [],
   "source": [
    "def Create_Input(n_hidden_count):\n",
    "    dim = x.shape[1].value\n",
    "    w = tf.Variable( tf.truncated_normal([dim, n_hidden_count]), name = 'w' )\n",
    "    b = tf.Variable( tf.constant(0.1, shape=[n_hidden_count]), name = 'b' )\n",
    "    h = tf.matmul(x, w)+b\n",
    "    h = tf.nn.tanh(h)\n",
    "    return h"
   ]
  },
  {
   "cell_type": "code",
   "execution_count": 5,
   "metadata": {},
   "outputs": [],
   "source": [
    "def Create_Hidden(in_data,n_hidden_count):\n",
    "    dim = in_data.shape[1].value\n",
    "    w = tf.Variable( tf.truncated_normal([dim, n_hidden_count]), name = 'w')\n",
    "    b = tf.Variable( tf.constant(0.1, shape=[n_hidden_count],name = 'b'))\n",
    "    h = tf.matmul(in_data, w)+b\n",
    "    h = tf.nn.tanh(h)\n",
    "    return h"
   ]
  },
  {
   "cell_type": "code",
   "execution_count": 6,
   "metadata": {},
   "outputs": [],
   "source": [
    "def Create_Output(in_data):\n",
    "    dim = in_data.shape[1].value\n",
    "    out_dim = y.shape[1].value\n",
    "    w = tf.Variable( tf.truncated_normal([dim, out_dim]), name = 'w')\n",
    "    b = tf.Variable( tf.constant(1.0, shape=[out_dim], name = 'b'))\n",
    "    o = tf.matmul(in_data, w)+b\n",
    "    o = tf.nn.tanh(o)\n",
    "    return o"
   ]
  },
  {
   "cell_type": "code",
   "execution_count": 17,
   "metadata": {},
   "outputs": [],
   "source": [
    "L1 = Create_Input(10)\n",
    "L2 = Create_Hidden(L1,20)\n",
    "output = Create_Hidden(L2,10)\n",
    "prediction = Create_Output(output)"
   ]
  },
  {
   "cell_type": "code",
   "execution_count": 18,
   "metadata": {},
   "outputs": [],
   "source": [
    "loss = tf.reduce_mean(tf.square(y - prediction))\n",
    "train_step = tf.train.GradientDescentOptimizer(0.1).minimize(loss)"
   ]
  },
  {
   "cell_type": "code",
   "execution_count": 19,
   "metadata": {},
   "outputs": [],
   "source": [
    "init = tf.global_variables_initializer()\n",
    "sess = tf.Session()\n",
    "sess.run(init)\n",
    "for _ in range(4000):\n",
    "    sess.run(train_step, feed_dict = {x:x_data, y:y_data})"
   ]
  },
  {
   "cell_type": "code",
   "execution_count": 20,
   "metadata": {},
   "outputs": [
    {
     "data": {
      "image/png": "[encoded data removed]",
      "text/plain": [
       "<Figure size 432x288 with 1 Axes>"
      ]
     },
     "metadata": {
      "needs_background": "light"
     },
     "output_type": "display_data"
    }
   ],
   "source": [
    "prediction_value = sess.run(prediction, feed_dict = {x:x_data})\n",
    "plt.figure()\n",
    "plt.scatter(x_data, y_data)\n",
    "plt.plot(x_data, prediction_value, 'r-', lw = 5)\n",
    "plt.show()"
   ]
  },
  {
   "cell_type": "code",
   "execution_count": null,
   "metadata": {},
   "outputs": [],
   "source": []
  }
 ],
 "metadata": {
  "celltoolbar": "Raw Cell Format",
  "kernelspec": {
   "display_name": "Python 3",
   "language": "python",
   "name": "python3"
  },
  "language_info": {
   "codemirror_mode": {
    "name": "ipython",
    "version": 3
   },
   "file_extension": ".py",
   "mimetype": "text/x-python",
   "name": "python",
   "nbconvert_exporter": "python",
   "pygments_lexer": "ipython3",
   "version": "3.7.3"
  }
 },
 "nbformat": 4,
 "nbformat_minor": 2
}
