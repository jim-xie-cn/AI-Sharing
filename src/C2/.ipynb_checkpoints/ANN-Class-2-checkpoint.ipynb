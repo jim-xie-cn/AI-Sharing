{
 "cells": [
  {
   "cell_type": "markdown",
   "metadata": {},
   "source": [
    "# Demo : No pattern found\n",
    "\n",
    "Author: Jim Xie\n",
    "\n",
    "Date:   2020-08-07"
   ]
  },
  {
   "cell_type": "code",
   "execution_count": 1,
   "metadata": {
    "scrolled": true
   },
   "outputs": [
    {
     "name": "stdout",
     "output_type": "stream",
     "text": [
      "WARNING:tensorflow:From /Users/jim/anaconda3/envs/p36/lib/python3.6/site-packages/tensorflow/python/compat/v2_compat.py:96: disable_resource_variables (from tensorflow.python.ops.variable_scope) is deprecated and will be removed in a future version.\n",
      "Instructions for updating:\n",
      "non-resource variables are not supported in the long term\n"
     ]
    }
   ],
   "source": [
    "# -*- coding: utf-8 -*- \n",
    "import sys,os,logging,time,json,cv2,json,threading,uuid,logging,cv2,datetime\n",
    "import numpy as np\n",
    "import random\n",
    "from matplotlib import pyplot as plt\n",
    "import tensorflow.compat.v1 as tf\n",
    "tf.disable_v2_behavior()\n",
    "%matplotlib inline\n",
    "import pandas as pd\n",
    "import seaborn as sns\n",
    "from sklearn import preprocessing\n",
    "import math\n",
    "from numpy.random import RandomState\n",
    "np.set_printoptions(suppress=True)"
   ]
  },
  {
   "cell_type": "code",
   "execution_count": 2,
   "metadata": {
    "scrolled": true
   },
   "outputs": [],
   "source": [
    "def GetParityData():\n",
    "    dataset_size = 100\n",
    "    x1 = np.random.random_integers(1,100,dataset_size )\n",
    "    x2 = np.random.random_integers(1,100,dataset_size )\n",
    "    y = []\n",
    "    x = []\n",
    "    for t1,t2 in zip(x1,x2):\n",
    "        x.append([t1,t2])\n",
    "        if (t1+t2)%2 == 0:\n",
    "            y.append([1])\n",
    "        else:\n",
    "            y.append([0])\n",
    "    return np.array(x),np.array(y)"
   ]
  },
  {
   "cell_type": "code",
   "execution_count": 3,
   "metadata": {
    "scrolled": false
   },
   "outputs": [],
   "source": [
    "def GetMulData():\n",
    "    dataset_size = 100\n",
    "    x = RandomState(1).rand(dataset_size,2)\n",
    "    y = []\n",
    "    for t1,t2 in x:\n",
    "        if (t1*t2) > 0.25:\n",
    "            y.append([1])\n",
    "        else:\n",
    "            y.append([0])\n",
    "    return np.array(x),np.array(y)"
   ]
  },
  {
   "cell_type": "code",
   "execution_count": 4,
   "metadata": {
    "scrolled": false
   },
   "outputs": [],
   "source": [
    "raw_x,raw_y = GetMulData()\n",
    "#raw_x = preprocessing.scale(raw_x)"
   ]
  },
  {
   "cell_type": "code",
   "execution_count": 5,
   "metadata": {
    "scrolled": false
   },
   "outputs": [
    {
     "data": {
      "text/plain": [
       "Text(0, 0.5, 'x2')"
      ]
     },
     "execution_count": 5,
     "metadata": {},
     "output_type": "execute_result"
    },
    {
     "data": {
      "image/png": "[encoded data removed]",
      "text/plain": [
       "<Figure size 576x432 with 1 Axes>"
      ]
     },
     "metadata": {},
     "output_type": "display_data"
    }
   ],
   "source": [
    "df = pd.DataFrame(raw_x)\n",
    "df['label'] = raw_y\n",
    "plt.style.use({'figure.figsize':(8, 6)})\n",
    "sns.set(font_scale=1)\n",
    "ax = sns.scatterplot(x=0, y=1, data=df,hue='label')\n",
    "ax.ticklabel_format(style='plain',axis='both')\n",
    "plt.xlabel('x1')\n",
    "plt.ylabel('x2')"
   ]
  },
  {
   "cell_type": "code",
   "execution_count": 6,
   "metadata": {
    "scrolled": false
   },
   "outputs": [],
   "source": [
    "input_x = tf.placeholder(tf.float32, [None, 2])\n",
    "input_y = tf.placeholder(tf.float32, [None, 1])"
   ]
  },
  {
   "cell_type": "code",
   "execution_count": 7,
   "metadata": {
    "scrolled": false
   },
   "outputs": [],
   "source": [
    "def Create_Input(n_hidden_count):\n",
    "    dim = input_x.shape[1].value\n",
    "    w = tf.Variable(tf.random_normal([dim,n_hidden_count],stddev=1,seed=1))\n",
    "    b = tf.Variable(tf.random_normal([n_hidden_count],stddev=1,seed=1))\n",
    "    o = tf.matmul(input_x, w)+b\n",
    "    o = tf.nn.sigmoid(o)\n",
    "    return o"
   ]
  },
  {
   "cell_type": "code",
   "execution_count": 8,
   "metadata": {
    "scrolled": false
   },
   "outputs": [],
   "source": [
    "def Create_Hidden(in_data,n_hidden_count):\n",
    "    dim = in_data.shape[1].value\n",
    "    w = tf.Variable( tf.truncated_normal([dim, n_hidden_count]), name = 'w')\n",
    "    b = tf.Variable(tf.random_normal([n_hidden_count],stddev=1,seed=1))\n",
    "    o = tf.matmul(in_data, w)+b\n",
    "    o = tf.nn.sigmoid(o)\n",
    "    return o"
   ]
  },
  {
   "cell_type": "code",
   "execution_count": 9,
   "metadata": {
    "scrolled": false
   },
   "outputs": [],
   "source": [
    "def Create_Output(in_data):\n",
    "    dim = in_data.shape[1].value\n",
    "    out_dim = input_y.shape[1].value\n",
    "    w = tf.Variable( tf.truncated_normal([dim, out_dim]), name = 'w')\n",
    "    b = tf.Variable(tf.random_normal([out_dim],stddev=1,seed=1))\n",
    "    o = tf.matmul(in_data, w)+b\n",
    "    o = tf.nn.sigmoid(o)\n",
    "    return o"
   ]
  },
  {
   "cell_type": "code",
   "execution_count": 10,
   "metadata": {
    "scrolled": false
   },
   "outputs": [],
   "source": [
    "L0 = Create_Input(100)\n",
    "L1 = Create_Hidden(L0,100)\n",
    "prediction = Create_Output(L1)"
   ]
  },
  {
   "cell_type": "code",
   "execution_count": 11,
   "metadata": {
    "scrolled": true
   },
   "outputs": [
    {
     "name": "stdout",
     "output_type": "stream",
     "text": [
      "Step 0, lost is 0.718131\n",
      "Step 100, lost is 0.0487032\n",
      "Step 200, lost is 0.0126682\n",
      "Step 300, lost is 0.00381689\n",
      "Step 400, lost is 0.00151652\n"
     ]
    }
   ],
   "source": [
    "entropy = input_y * tf.log(tf.clip_by_value(prediction,1e-10,1.0))+(1-input_y) * tf.log(tf.clip_by_value(1-prediction,1e-10,1.0))\n",
    "cross_entropy = -tf.reduce_mean(entropy)\n",
    "train_step = tf.train.AdamOptimizer(0.01).minimize(cross_entropy)\n",
    "init = tf.global_variables_initializer()\n",
    "sess = tf.Session()\n",
    "sess.run(init)\n",
    "for i in range(500):\n",
    "    sess.run(train_step,feed_dict={input_x:raw_x,input_y:raw_y})\n",
    "    if i % 100 == 0:\n",
    "        total_cross_entropy = sess.run(cross_entropy,feed_dict={input_x:raw_x,input_y:raw_y})\n",
    "        print(\"Step %d, lost is %g\"%(i,total_cross_entropy))"
   ]
  },
  {
   "cell_type": "code",
   "execution_count": 12,
   "metadata": {
    "scrolled": true
   },
   "outputs": [],
   "source": [
    "test_x,test_y = GetMulData()\n",
    "test_x1 = test_x\n",
    "#test_x1 = preprocessing.scale(test_x)\n",
    "pred_Y = sess.run(prediction,feed_dict={input_x:test_x1})\n",
    "pred_Y[(pred_Y>= 0.5)] = 1\n",
    "pred_Y[(pred_Y< 0.5)] = 0"
   ]
  },
  {
   "cell_type": "code",
   "execution_count": 13,
   "metadata": {
    "scrolled": false
   },
   "outputs": [],
   "source": [
    "test_y = np.squeeze(test_y)\n",
    "pred_Y = np.squeeze(pred_Y)\n",
    "test_label = []\n",
    "for x,t1,t2 in zip(test_x,test_y,pred_Y):\n",
    "    if t1 == t2:\n",
    "        test_label.append('True')\n",
    "    else:\n",
    "        test_label.append('False')\n",
    "    #print(\"(%f) %f-->%f\"%((x[0]+x[1]),t1,t2))"
   ]
  },
  {
   "cell_type": "code",
   "execution_count": 14,
   "metadata": {
    "scrolled": false
   },
   "outputs": [
    {
     "data": {
      "text/plain": [
       "Text(0, 0.5, 'x2')"
      ]
     },
     "execution_count": 14,
     "metadata": {},
     "output_type": "execute_result"
    },
    {
     "data": {
      "image/png": "[encoded data removed]",
      "text/plain": [
       "<Figure size 576x432 with 1 Axes>"
      ]
     },
     "metadata": {},
     "output_type": "display_data"
    }
   ],
   "source": [
    "df1 = pd.DataFrame(raw_x)\n",
    "df1['label'] = test_label\n",
    "plt.style.use({'figure.figsize':(8, 6)})\n",
    "sns.set(font_scale=1)\n",
    "ax = sns.scatterplot(x=0, y=1, data=df1,hue='label')\n",
    "ax.ticklabel_format(style='plain',axis='both')\n",
    "plt.xlabel('x1')\n",
    "plt.ylabel('x2')"
   ]
  },
  {
   "cell_type": "code",
   "execution_count": 15,
   "metadata": {
    "scrolled": false
   },
   "outputs": [
    {
     "name": "stdout",
     "output_type": "stream",
     "text": [
      "[[61  0]\n",
      " [ 0 39]]\n"
     ]
    }
   ],
   "source": [
    "conf = tf.confusion_matrix(labels=test_y, predictions=pred_Y,num_classes=2)\n",
    "conf_numpy = conf.eval(session=sess)\n",
    "conf_df = pd.DataFrame(conf_numpy) \n",
    "print(conf_numpy)"
   ]
  },
  {
   "cell_type": "code",
   "execution_count": null,
   "metadata": {
    "scrolled": false
   },
   "outputs": [],
   "source": []
  },
  {
   "cell_type": "code",
   "execution_count": null,
   "metadata": {
    "scrolled": true
   },
   "outputs": [],
   "source": []
  }
 ],
 "metadata": {
  "celltoolbar": "Raw Cell Format",
  "kernelspec": {
   "display_name": "Python 3",
   "language": "python",
   "name": "python3"
  },
  "language_info": {
   "codemirror_mode": {
    "name": "ipython",
    "version": 3
   },
   "file_extension": ".py",
   "mimetype": "text/x-python",
   "name": "python",
   "nbconvert_exporter": "python",
   "pygments_lexer": "ipython3",
   "version": "3.6.2"
  }
 },
 "nbformat": 4,
 "nbformat_minor": 2
}
